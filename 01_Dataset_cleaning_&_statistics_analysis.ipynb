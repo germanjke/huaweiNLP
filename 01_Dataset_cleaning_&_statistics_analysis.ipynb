{
  "cells": [
    {
      "cell_type": "code",
      "metadata": {
        "id": "fRBd-p3Z34j2",
        "colab_type": "code",
        "colab": {}
      },
      "source": [
        "import pandas as pd\n",
        "import numpy as np\n",
        "import matplotlib.pyplot as plt"
      ],
      "execution_count": 0,
      "outputs": []
    },
    {
      "cell_type": "markdown",
      "metadata": {
        "id": "MQ2Elhka0fid",
        "colab_type": "text"
      },
      "source": [
        "For our summarization task we would use our second dataset that contains 134010 lines."
      ]
    },
    {
      "cell_type": "code",
      "metadata": {
        "id": "L9o5ew4q0Xmn",
        "colab_type": "code",
        "outputId": "abdf56c6-4591-4e10-a1a4-618c422c3480",
        "colab": {
          "base_uri": "https://localhost:8080/",
          "height": 36
        }
      },
      "source": [
        "from google.colab import drive\n",
        "drive.mount('/content/drive')"
      ],
      "execution_count": 3,
      "outputs": [
        {
          "output_type": "stream",
          "text": [
            "Drive already mounted at /content/drive; to attempt to forcibly remount, call drive.mount(\"/content/drive\", force_remount=True).\n"
          ],
          "name": "stdout"
        }
      ]
    },
    {
      "cell_type": "code",
      "metadata": {
        "id": "9gupzvTt4egf",
        "colab_type": "code",
        "colab": {}
      },
      "source": [
        "df1 = pd.read_json('/content/drive/My Drive/RusPaperFull/RG01.json')\n",
        "df2 = pd.read_json('/content/drive/My Drive/RusPaperFull/RG02.json')\n",
        "df3 = pd.read_json('/content/drive/My Drive/RusPaperFull/RG03.json')\n",
        "df4 = pd.read_json('/content/drive/My Drive/RusPaperFull/RG04.json')\n",
        "df5 = pd.read_json('/content/drive/My Drive/RusPaperFull/RG05.json')\n",
        "df6 = pd.read_json('/content/drive/My Drive/RusPaperFull/RG06.json')\n",
        "df7 = pd.read_json('/content/drive/My Drive/RusPaperFull/RG07.json')"
      ],
      "execution_count": 0,
      "outputs": []
    },
    {
      "cell_type": "code",
      "metadata": {
        "id": "pgVBpugf42kg",
        "colab_type": "code",
        "outputId": "6ffa645d-c026-4d1f-bf0d-3dfcd5d29529",
        "colab": {
          "base_uri": "https://localhost:8080/",
          "height": 73
        }
      },
      "source": [
        "full_data = pd.concat([df1, df2, df3, df4, df5, df6, df7])\n",
        "print(\"Total lines in base dataframe:\", len(full_data))\n",
        "print(\"Total duplicated lines:\", len(full_data[full_data.duplicated(keep='first')]))\n",
        "df = full_data.drop_duplicates()\n",
        "print(\"Total unique lines in cleaned dataframe:\", len(df))"
      ],
      "execution_count": 5,
      "outputs": [
        {
          "output_type": "stream",
          "text": [
            "Total lines in base dataframe: 134010\n",
            "Total duplicated lines: 16\n",
            "Total unique lines in cleaned dataframe: 133994\n"
          ],
          "name": "stdout"
        }
      ]
    },
    {
      "cell_type": "markdown",
      "metadata": {
        "id": "_4oQRaR21qvD",
        "colab_type": "text"
      },
      "source": [
        "Let's have a first look at our data common stats."
      ]
    },
    {
      "cell_type": "code",
      "metadata": {
        "id": "ILzfWHu21vny",
        "colab_type": "code",
        "outputId": "d7745d2d-cb26-4451-e55e-cb247bd0fa34",
        "colab": {
          "base_uri": "https://localhost:8080/",
          "height": 317
        }
      },
      "source": [
        "df.info()"
      ],
      "execution_count": 6,
      "outputs": [
        {
          "output_type": "stream",
          "text": [
            "<class 'pandas.core.frame.DataFrame'>\n",
            "Int64Index: 133994 entries, 0 to 19136\n",
            "Data columns (total 9 columns):\n",
            " #   Column         Non-Null Count   Dtype \n",
            "---  ------         --------------   ----- \n",
            " 0   Article_id     133994 non-null  int64 \n",
            " 1   Url            133994 non-null  object\n",
            " 2   Date_time      133994 non-null  object\n",
            " 3   Head_rubric    130537 non-null  object\n",
            " 4   Head_title     133857 non-null  object\n",
            " 5   Head_subtitle  29880 non-null   object\n",
            " 6   Text           133889 non-null  object\n",
            " 7   Keywords       133509 non-null  object\n",
            " 8   Authors        133509 non-null  object\n",
            "dtypes: int64(1), object(8)\n",
            "memory usage: 10.2+ MB\n"
          ],
          "name": "stdout"
        }
      ]
    },
    {
      "cell_type": "markdown",
      "metadata": {
        "id": "pSi3QiOS1y8j",
        "colab_type": "text"
      },
      "source": [
        "At first we have 105 Null cells in Text column in dataframe that was not collected automatically due to specific of html and css formatting of some special news pages. And secondly we see 137 empty cells which must contain news titles. Let's get only lines that are full of texts."
      ]
    },
    {
      "cell_type": "code",
      "metadata": {
        "id": "qmH4LF2u48Jz",
        "colab_type": "code",
        "colab": {}
      },
      "source": [
        "df = df[df['Text'].notna()]\n",
        "df = df[df['Head_title'].notna()]\n",
        "df = df.reset_index(drop=True)"
      ],
      "execution_count": 0,
      "outputs": []
    },
    {
      "cell_type": "markdown",
      "metadata": {
        "id": "HfSSh7cwFmD9",
        "colab_type": "text"
      },
      "source": [
        "Drop some unusefull columns."
      ]
    },
    {
      "cell_type": "code",
      "metadata": {
        "id": "ad7DiD8FCN0J",
        "colab_type": "code",
        "colab": {}
      },
      "source": [
        "df = df.drop(['Article_id', 'Url', 'Head_subtitle', 'Authors'], axis=1)"
      ],
      "execution_count": 0,
      "outputs": []
    },
    {
      "cell_type": "markdown",
      "metadata": {
        "id": "pk12fMmp8zCz",
        "colab_type": "text"
      },
      "source": [
        "Check the number of characters in the text of the news for each line."
      ]
    },
    {
      "cell_type": "code",
      "metadata": {
        "id": "nIqrSXaUCcww",
        "colab_type": "code",
        "colab": {}
      },
      "source": [
        "df['Text'] = df['Text'].str.strip()\n",
        "df['Text_count_signs'] = df['Text'].str.len()"
      ],
      "execution_count": 0,
      "outputs": []
    },
    {
      "cell_type": "code",
      "metadata": {
        "id": "6ANOv4z28_Ht",
        "colab_type": "code",
        "colab": {
          "base_uri": "https://localhost:8080/",
          "height": 206
        },
        "outputId": "458eb18f-b21e-4b30-df11-7069459cb29c"
      },
      "source": [
        "df.nsmallest(5, 'Text_count_signs')"
      ],
      "execution_count": 10,
      "outputs": [
        {
          "output_type": "execute_result",
          "data": {
            "text/html": [
              "<div>\n",
              "<style scoped>\n",
              "    .dataframe tbody tr th:only-of-type {\n",
              "        vertical-align: middle;\n",
              "    }\n",
              "\n",
              "    .dataframe tbody tr th {\n",
              "        vertical-align: top;\n",
              "    }\n",
              "\n",
              "    .dataframe thead th {\n",
              "        text-align: right;\n",
              "    }\n",
              "</style>\n",
              "<table border=\"1\" class=\"dataframe\">\n",
              "  <thead>\n",
              "    <tr style=\"text-align: right;\">\n",
              "      <th></th>\n",
              "      <th>Date_time</th>\n",
              "      <th>Head_rubric</th>\n",
              "      <th>Head_title</th>\n",
              "      <th>Text</th>\n",
              "      <th>Keywords</th>\n",
              "      <th>Text_count_signs</th>\n",
              "    </tr>\n",
              "  </thead>\n",
              "  <tbody>\n",
              "    <tr>\n",
              "      <th>13997</th>\n",
              "      <td>2018-01-07T17:50:00</td>\n",
              "      <td>Культура</td>\n",
              "      <td>Чулпан Хаматова читает стихотворение Пастернак...</td>\n",
              "      <td></td>\n",
              "      <td>Культура, Литература, РГ-Видео</td>\n",
              "      <td>0</td>\n",
              "    </tr>\n",
              "    <tr>\n",
              "      <th>46537</th>\n",
              "      <td>2020-02-28T16:50:00</td>\n",
              "      <td>Общество</td>\n",
              "      <td>Карточки, мешочники, спекулянты</td>\n",
              "      <td></td>\n",
              "      <td>Общество, История, \"Родина\", Новости, СССР, Ве...</td>\n",
              "      <td>0</td>\n",
              "    </tr>\n",
              "    <tr>\n",
              "      <th>48747</th>\n",
              "      <td>2020-01-10T21:25:00</td>\n",
              "      <td>Общество</td>\n",
              "      <td>Россия 2010-х: криптовалюта, новый стиль и сос...</td>\n",
              "      <td></td>\n",
              "      <td>Общество, История, \"Родина\", Новости, Россия, ...</td>\n",
              "      <td>0</td>\n",
              "    </tr>\n",
              "    <tr>\n",
              "      <th>49180</th>\n",
              "      <td>2019-12-26T23:39:00</td>\n",
              "      <td>Общество</td>\n",
              "      <td>Где смотреть и как не опоздать</td>\n",
              "      <td></td>\n",
              "      <td>Общество, Ежедневник, Праздники, Филиалы РГ, С...</td>\n",
              "      <td>0</td>\n",
              "    </tr>\n",
              "    <tr>\n",
              "      <th>49220</th>\n",
              "      <td>2019-12-26T14:15:00</td>\n",
              "      <td>Общество</td>\n",
              "      <td>Переименованная Москва</td>\n",
              "      <td></td>\n",
              "      <td>Общество, История, \"Родина\", Новости, Москва, ...</td>\n",
              "      <td>0</td>\n",
              "    </tr>\n",
              "  </tbody>\n",
              "</table>\n",
              "</div>"
            ],
            "text/plain": [
              "                 Date_time  ... Text_count_signs\n",
              "13997  2018-01-07T17:50:00  ...                0\n",
              "46537  2020-02-28T16:50:00  ...                0\n",
              "48747  2020-01-10T21:25:00  ...                0\n",
              "49180  2019-12-26T23:39:00  ...                0\n",
              "49220  2019-12-26T14:15:00  ...                0\n",
              "\n",
              "[5 rows x 6 columns]"
            ]
          },
          "metadata": {
            "tags": []
          },
          "execution_count": 10
        }
      ]
    },
    {
      "cell_type": "markdown",
      "metadata": {
        "id": "LX4YPPan9Em0",
        "colab_type": "text"
      },
      "source": [
        "Some site pages did not contain news information in text form, but was presented by infographics or youtube videos. From this pages were collected only copyright data, that unuseful for our task. All of this data items were checked manually. For these reasons, we can remove from the dataset all rows with the Text_count_signs value less than 100."
      ]
    },
    {
      "cell_type": "code",
      "metadata": {
        "id": "d1EoSA9u9I9-",
        "colab_type": "code",
        "colab": {
          "base_uri": "https://localhost:8080/",
          "height": 36
        },
        "outputId": "a80e90d4-5346-4b43-e6f6-c61b66d45526"
      },
      "source": [
        "df = df[df['Text_count_signs'] > 100]\n",
        "df = df.reset_index(drop=True)\n",
        "print(\"Total unique lines in final dataframe:\", len(df))"
      ],
      "execution_count": 11,
      "outputs": [
        {
          "output_type": "stream",
          "text": [
            "Total unique lines in final dataframe: 133805\n"
          ],
          "name": "stdout"
        }
      ]
    },
    {
      "cell_type": "markdown",
      "metadata": {
        "id": "O9r6q3iFK3mA",
        "colab_type": "text"
      },
      "source": [
        "Now check our headers with same method."
      ]
    },
    {
      "cell_type": "code",
      "metadata": {
        "id": "yY1jigs3Kfs1",
        "colab_type": "code",
        "colab": {}
      },
      "source": [
        "df['Head_title'] = df['Head_title'].str.strip()\n",
        "df['Title_count_signs'] = df['Head_title'].str.len()"
      ],
      "execution_count": 0,
      "outputs": []
    },
    {
      "cell_type": "code",
      "metadata": {
        "id": "Cq0OxDcZ84kY",
        "colab_type": "code",
        "colab": {
          "base_uri": "https://localhost:8080/",
          "height": 206
        },
        "outputId": "14782c4a-d7a7-4ff9-ffd4-b25f15957a7a"
      },
      "source": [
        "df.nsmallest(5, 'Title_count_signs')"
      ],
      "execution_count": 13,
      "outputs": [
        {
          "output_type": "execute_result",
          "data": {
            "text/html": [
              "<div>\n",
              "<style scoped>\n",
              "    .dataframe tbody tr th:only-of-type {\n",
              "        vertical-align: middle;\n",
              "    }\n",
              "\n",
              "    .dataframe tbody tr th {\n",
              "        vertical-align: top;\n",
              "    }\n",
              "\n",
              "    .dataframe thead th {\n",
              "        text-align: right;\n",
              "    }\n",
              "</style>\n",
              "<table border=\"1\" class=\"dataframe\">\n",
              "  <thead>\n",
              "    <tr style=\"text-align: right;\">\n",
              "      <th></th>\n",
              "      <th>Date_time</th>\n",
              "      <th>Head_rubric</th>\n",
              "      <th>Head_title</th>\n",
              "      <th>Text</th>\n",
              "      <th>Keywords</th>\n",
              "      <th>Text_count_signs</th>\n",
              "      <th>Title_count_signs</th>\n",
              "    </tr>\n",
              "  </thead>\n",
              "  <tbody>\n",
              "    <tr>\n",
              "      <th>31920</th>\n",
              "      <td>2018-06-14T23:58:00</td>\n",
              "      <td>Спорт</td>\n",
              "      <td>5+!</td>\n",
              "      <td>Этого дня все мы ждали восемь лет - с тех пор,...</td>\n",
              "      <td>Спорт, Футбол, Чемпионат мира, Чемпионат мира ...</td>\n",
              "      <td>11090</td>\n",
              "      <td>3</td>\n",
              "    </tr>\n",
              "    <tr>\n",
              "      <th>39539</th>\n",
              "      <td>2019-08-20T19:50:00</td>\n",
              "      <td>None</td>\n",
              "      <td>БКД</td>\n",
              "      <td>Начинается земля,как известно, от Кремля.    Н...</td>\n",
              "      <td>Общество, История, Культура, Арт, Архитектура,...</td>\n",
              "      <td>3165</td>\n",
              "      <td>3</td>\n",
              "    </tr>\n",
              "    <tr>\n",
              "      <th>47322</th>\n",
              "      <td>2020-02-10T20:26:00</td>\n",
              "      <td>Общество</td>\n",
              "      <td>296</td>\n",
              "      <td>Этот день отмечается как День российской науки...</td>\n",
              "      <td>Общество, Наука, Колонка Леонида Радзиховского</td>\n",
              "      <td>5462</td>\n",
              "      <td>3</td>\n",
              "    </tr>\n",
              "    <tr>\n",
              "      <th>10276</th>\n",
              "      <td>2018-09-27T00:00:00</td>\n",
              "      <td>Культура</td>\n",
              "      <td>Ключ</td>\n",
              "      <td>С одним из больших и пока ещё практически неиз...</td>\n",
              "      <td>Культура, Литература</td>\n",
              "      <td>8143</td>\n",
              "      <td>4</td>\n",
              "    </tr>\n",
              "    <tr>\n",
              "      <th>12169</th>\n",
              "      <td>2018-05-23T20:05:00</td>\n",
              "      <td>Культура</td>\n",
              "      <td>Свет</td>\n",
              "      <td>Случай в Тильской галерееО том, что произошло ...</td>\n",
              "      <td>Культура, Литература</td>\n",
              "      <td>12205</td>\n",
              "      <td>4</td>\n",
              "    </tr>\n",
              "  </tbody>\n",
              "</table>\n",
              "</div>"
            ],
            "text/plain": [
              "                 Date_time Head_rubric  ... Text_count_signs Title_count_signs\n",
              "31920  2018-06-14T23:58:00       Спорт  ...            11090                 3\n",
              "39539  2019-08-20T19:50:00        None  ...             3165                 3\n",
              "47322  2020-02-10T20:26:00    Общество  ...             5462                 3\n",
              "10276  2018-09-27T00:00:00    Культура  ...             8143                 4\n",
              "12169  2018-05-23T20:05:00    Культура  ...            12205                 4\n",
              "\n",
              "[5 rows x 7 columns]"
            ]
          },
          "metadata": {
            "tags": []
          },
          "execution_count": 13
        }
      ]
    },
    {
      "cell_type": "markdown",
      "metadata": {
        "id": "GzEEtHXe87Z8",
        "colab_type": "text"
      },
      "source": [
        "We haven't got empty headers. The shortest headers is make sense. For example \"five plus\" is highest rate in russian grading system in schools. The 296 num seems the number of the day of the year, when the described holiday comes, etc."
      ]
    },
    {
      "cell_type": "code",
      "metadata": {
        "id": "pJgq6hEd1-fJ",
        "colab_type": "code",
        "colab": {}
      },
      "source": [
        "df = df.sort_values('Date_time')"
      ],
      "execution_count": 0,
      "outputs": []
    },
    {
      "cell_type": "markdown",
      "metadata": {
        "id": "MeFIEgUR2dRq",
        "colab_type": "text"
      },
      "source": [
        "We sort our data for DateTime. Now we have 603 lines that contains \"0001-01-01T00:00:00\" DateTime value. This happened during parsing process, when some news hadn't got any time stamps. Min value DateTime was automatically added. These lines represent only 0.5% of the total data set, save them too.\n",
        "\n",
        "After all for our summarization task we don't need any column except \"Text\" that to be used as inputs and \"Head_title\" that to be used as targets.\n",
        "\n",
        "But first, let's collect some statistics on the dataset for its analysis. To do this, we remove the columns that no longer provide us with useful information."
      ]
    },
    {
      "cell_type": "code",
      "metadata": {
        "id": "d2k7xzvK5ERw",
        "colab_type": "code",
        "colab": {}
      },
      "source": [
        "df = df.drop(['Date_time', 'Text_count_signs', 'Title_count_signs'], axis=1)\n",
        "df = df.reset_index(drop=True)"
      ],
      "execution_count": 0,
      "outputs": []
    },
    {
      "cell_type": "code",
      "metadata": {
        "id": "6486vPCbaBsi",
        "colab_type": "code",
        "outputId": "645a9d5a-25ad-4695-f136-87fdd3b0cc21",
        "colab": {
          "base_uri": "https://localhost:8080/",
          "height": 223
        }
      },
      "source": [
        "df.info()"
      ],
      "execution_count": 16,
      "outputs": [
        {
          "output_type": "stream",
          "text": [
            "<class 'pandas.core.frame.DataFrame'>\n",
            "RangeIndex: 133805 entries, 0 to 133804\n",
            "Data columns (total 4 columns):\n",
            " #   Column       Non-Null Count   Dtype \n",
            "---  ------       --------------   ----- \n",
            " 0   Head_rubric  130486 non-null  object\n",
            " 1   Head_title   133805 non-null  object\n",
            " 2   Text         133805 non-null  object\n",
            " 3   Keywords     133323 non-null  object\n",
            "dtypes: object(4)\n",
            "memory usage: 4.1+ MB\n"
          ],
          "name": "stdout"
        }
      ]
    },
    {
      "cell_type": "markdown",
      "metadata": {
        "id": "oKJ8P8oM3a1k",
        "colab_type": "text"
      },
      "source": [
        "Define some utils functions."
      ]
    },
    {
      "cell_type": "code",
      "metadata": {
        "id": "exnRLm_n_qMn",
        "colab_type": "code",
        "colab": {}
      },
      "source": [
        "def get_rubrics_stat(dataset):\n",
        "    unique_rubrics = dataset.Head_rubric.unique()\n",
        "    print(\"Total rubrics:\", len(unique_rubrics))\n",
        "    rubrics = {}\n",
        "    for item in unique_rubrics:\n",
        "        if item is None:\n",
        "            rubrics[item] = len(dataset[dataset[\"Head_rubric\"].isna()])\n",
        "            continue\n",
        "        rubrics[item] = len(dataset[dataset[\"Head_rubric\"] == item])\n",
        "    return rubrics\n",
        "\n",
        "    \n",
        "def show_rubrics_stat(rubrics):    \n",
        "    sorted_r = {k: v for k, v in sorted(rubrics.items(), key=lambda item: item[1], reverse=True)}\n",
        "    for k, v in sorted_r.items():\n",
        "        print(\"%s: %s\" % (k, v))\n",
        "\n",
        "\n",
        "def replace_minor_headrubrics(dataset, stats, threshold):\n",
        "    major = []\n",
        "    minor = []\n",
        "    for key, val in stats.items():\n",
        "        if val > threshold:\n",
        "            major.append(key)\n",
        "        else:\n",
        "            minor.append(key)\n",
        "    for name in minor:\n",
        "        temp = dataset[dataset['Head_rubric'] == name]\n",
        "        new = None\n",
        "        flag = False\n",
        "        for _, row in temp.iterrows():\n",
        "            if row['Keywords'] is None:\n",
        "                continue\n",
        "            keywords = [x.strip() for x in row['Keywords'].split(',')]\n",
        "            for item in keywords:\n",
        "                if item in major:\n",
        "                    new = item\n",
        "                    flag = True\n",
        "                    break\n",
        "            if flag: break\n",
        "        dataset.Head_rubric[dataset.Head_rubric == name] = new\n",
        "\n",
        "\n",
        "def relabel_empty_headrubrics(dataset, stats):\n",
        "    head_rubrics = [x for x in stats.keys() if x is not None]\n",
        "    for index, row in dataset.iterrows():\n",
        "        if row['Head_rubric'] is None:\n",
        "            if row['Keywords'] is None:\n",
        "                continue\n",
        "            keywords = [x.strip() for x in row['Keywords'].split(',')]\n",
        "            for item in keywords:\n",
        "                if item in head_rubrics:\n",
        "                    row['Head_rubric'] = item\n",
        "                    continue"
      ],
      "execution_count": 0,
      "outputs": []
    },
    {
      "cell_type": "code",
      "metadata": {
        "id": "VBw5Rp-6F8GT",
        "colab_type": "code",
        "outputId": "52c73f9a-5945-4505-881d-1d95e02e0210",
        "colab": {
          "base_uri": "https://localhost:8080/",
          "height": 1000
        }
      },
      "source": [
        "hr_stat = get_rubrics_stat(df)\n",
        "show_rubrics_stat(hr_stat)"
      ],
      "execution_count": 18,
      "outputs": [
        {
          "output_type": "stream",
          "text": [
            "Total rubrics: 78\n",
            "Спорт: 20550\n",
            "Происшествия: 20122\n",
            "В мире: 18583\n",
            "Власть: 18524\n",
            "Общество: 18281\n",
            "Культура: 17079\n",
            "Экономика: 16865\n",
            "None: 3319\n",
            "Бензин: 66\n",
            "Транспорт: 51\n",
            "Внутренняя политика: 39\n",
            "Работа власти: 28\n",
            "ДТП: 27\n",
            "Транспортное право: 23\n",
            "Административное право: 19\n",
            "Общественный транспорт: 19\n",
            "Инфраструктура: 18\n",
            "Промышленность: 14\n",
            "Госуправление: 12\n",
            "Товары и цены: 11\n",
            "Безопасность: 10\n",
            "Долги и кредиты: 9\n",
            "Налоги: 9\n",
            "Охрана порядка: 8\n",
            "Страхование: 7\n",
            "Суд: 6\n",
            "Криминал: 6\n",
            "Образ жизни: 6\n",
            "Регионы: 5\n",
            "Право: 5\n",
            "Крупные компании: 5\n",
            "Германия: 5\n",
            "Легковые авто: 5\n",
            "Уголовное право: 4\n",
            "Аукционы и коллекции: 3\n",
            "Внешняя политика: 3\n",
            "Правоохранительная система: 3\n",
            "Япония: 3\n",
            "США: 3\n",
            "Социология: 3\n",
            "Позиция: 2\n",
            "Личные документы: 2\n",
            "Актуальное искусство: 2\n",
            "Нефть и газ: 2\n",
            "Туризм: 2\n",
            "Соцсфера: 2\n",
            "Наука: 2\n",
            "Гражданское право: 2\n",
            "Дороги: 2\n",
            "Кино и ТВ: 1\n",
            "Игроки и тренеры: 1\n",
            "Литература: 1\n",
            "Земля: 1\n",
            "Жилищное право: 1\n",
            "Железные дороги: 1\n",
            "ТВ и сериалы: 1\n",
            "ЖКХ: 1\n",
            "Банки: 1\n",
            "Живопись: 1\n",
            "Правосудие: 1\n",
            "Бразилия: 1\n",
            "ЧП: 1\n",
            "Великобритания: 1\n",
            "Образование: 1\n",
            "Пенсии и пособия: 1\n",
            "Фотография: 1\n",
            "Юрконсультация: 1\n",
            "Семья и дети: 1\n",
            "Финансы: 1\n",
            "Малый бизнес: 1\n",
            "Связь: 1\n",
            "Австралия: 1\n",
            "Религия: 1\n",
            "Утраты: 1\n",
            "Турция: 1\n",
            "Инновации: 1\n",
            "Южная Корея: 1\n",
            "Греция: 1\n"
          ],
          "name": "stdout"
        }
      ]
    },
    {
      "cell_type": "markdown",
      "metadata": {
        "id": "VJA4t9Ge5da0",
        "colab_type": "text"
      },
      "source": [
        "With 7 basic news categories we are also have specialized labels, which are represented with only a few texts. Max count for one kind of minor category is 66 texts. We relabel this texts by a suitable tag from the Keywords list, that include basic categories tags."
      ]
    },
    {
      "cell_type": "code",
      "metadata": {
        "id": "oG8MBPx8Rh4y",
        "colab_type": "code",
        "colab": {}
      },
      "source": [
        "replace_minor_headrubrics(df, hr_stat, threshold=66)"
      ],
      "execution_count": 0,
      "outputs": []
    },
    {
      "cell_type": "code",
      "metadata": {
        "id": "ovbdyhJbWwHU",
        "colab_type": "code",
        "outputId": "1b7569b0-6074-49b0-f20a-b3451257600f",
        "colab": {
          "base_uri": "https://localhost:8080/",
          "height": 186
        }
      },
      "source": [
        "hr_stat = get_rubrics_stat(df)\n",
        "show_rubrics_stat(hr_stat)"
      ],
      "execution_count": 20,
      "outputs": [
        {
          "output_type": "stream",
          "text": [
            "Total rubrics: 8\n",
            "Спорт: 20551\n",
            "Происшествия: 20171\n",
            "Власть: 18688\n",
            "В мире: 18600\n",
            "Общество: 18300\n",
            "Культура: 17089\n",
            "Экономика: 17087\n",
            "None: 3319\n"
          ],
          "name": "stdout"
        }
      ]
    },
    {
      "cell_type": "markdown",
      "metadata": {
        "id": "fOxSEz1B6_vH",
        "colab_type": "text"
      },
      "source": [
        "After relabeling we have got 3319 texts without category at all. Relabel them with same way."
      ]
    },
    {
      "cell_type": "code",
      "metadata": {
        "id": "bpiRHhSimBF1",
        "colab_type": "code",
        "colab": {}
      },
      "source": [
        "relabel_empty_headrubrics(df, hr_stat)"
      ],
      "execution_count": 0,
      "outputs": []
    },
    {
      "cell_type": "code",
      "metadata": {
        "id": "VMS2aZWissTN",
        "colab_type": "code",
        "outputId": "6ae7f4fa-d43e-417d-ec6e-1a7846b2d1b9",
        "colab": {
          "base_uri": "https://localhost:8080/",
          "height": 186
        }
      },
      "source": [
        "show_rubrics_stat(get_rubrics_stat(df))"
      ],
      "execution_count": 22,
      "outputs": [
        {
          "output_type": "stream",
          "text": [
            "Total rubrics: 8\n",
            "Спорт: 20558\n",
            "Происшествия: 20227\n",
            "Власть: 19083\n",
            "В мире: 18786\n",
            "Общество: 18559\n",
            "Культура: 18408\n",
            "Экономика: 18183\n",
            "None: 1\n"
          ],
          "name": "stdout"
        }
      ]
    },
    {
      "cell_type": "markdown",
      "metadata": {
        "id": "ciwJyZKV71wQ",
        "colab_type": "text"
      },
      "source": [
        "Now we have just one unmarked text with an empty Keywords list. Have a look what kind of news is this."
      ]
    },
    {
      "cell_type": "code",
      "metadata": {
        "id": "JoDBfZFW_Yyw",
        "colab_type": "code",
        "outputId": "204f770b-b553-4b7c-fe95-44ec64b24049",
        "colab": {
          "base_uri": "https://localhost:8080/",
          "height": 81
        }
      },
      "source": [
        "df[df['Head_rubric'].isna()]"
      ],
      "execution_count": 23,
      "outputs": [
        {
          "output_type": "execute_result",
          "data": {
            "text/html": [
              "<div>\n",
              "<style scoped>\n",
              "    .dataframe tbody tr th:only-of-type {\n",
              "        vertical-align: middle;\n",
              "    }\n",
              "\n",
              "    .dataframe tbody tr th {\n",
              "        vertical-align: top;\n",
              "    }\n",
              "\n",
              "    .dataframe thead th {\n",
              "        text-align: right;\n",
              "    }\n",
              "</style>\n",
              "<table border=\"1\" class=\"dataframe\">\n",
              "  <thead>\n",
              "    <tr style=\"text-align: right;\">\n",
              "      <th></th>\n",
              "      <th>Head_rubric</th>\n",
              "      <th>Head_title</th>\n",
              "      <th>Text</th>\n",
              "      <th>Keywords</th>\n",
              "    </tr>\n",
              "  </thead>\n",
              "  <tbody>\n",
              "    <tr>\n",
              "      <th>71</th>\n",
              "      <td>None</td>\n",
              "      <td>Декрет Высшего Государственного Совета Союзног...</td>\n",
              "      <td>Принят Парламентским Собранием Союза Беларуси ...</td>\n",
              "      <td>None</td>\n",
              "    </tr>\n",
              "  </tbody>\n",
              "</table>\n",
              "</div>"
            ],
            "text/plain": [
              "   Head_rubric  ... Keywords\n",
              "71        None  ...     None\n",
              "\n",
              "[1 rows x 4 columns]"
            ]
          },
          "metadata": {
            "tags": []
          },
          "execution_count": 23
        }
      ]
    },
    {
      "cell_type": "markdown",
      "metadata": {
        "id": "G1rvgzVg8QBH",
        "colab_type": "text"
      },
      "source": [
        "This is the Belarusian legislative act. Absolutely formal publication, without any reflection of events that happened, etc. Actually not a news. Drop it easily. We also drop a several dataset invalid items after manual checking. This save for you a dozens of hours of debugging models."
      ]
    },
    {
      "cell_type": "code",
      "metadata": {
        "id": "IHiYua-U9RHQ",
        "colab_type": "code",
        "colab": {}
      },
      "source": [
        "df.drop([71, 12770, 36990, 37257, 38290, 45594, 46151, 61751, 65388, 67493, 68065,\n",
        "         75284, 76211, 77700, 78495, 83602, 88017, 91290, 91405, 92096, 92127, 93932,\n",
        "         97049, 98278, 99318, 99414, 110913, 113232, 118183, 125802, 132608, 133102], inplace=True)\n",
        "df.drop(['Keywords'], axis=1, inplace=True)\n",
        "cleaned_dataset = df.reset_index(drop=True)"
      ],
      "execution_count": 0,
      "outputs": []
    },
    {
      "cell_type": "markdown",
      "metadata": {},
      "source": [
        "Some next lines may looks weird, but it make sense. Order of this pipeline is strictly defined. Replacing several regular expressions with one complex expression in a single procedure gives you a different result. "
      ]
    },
    {
      "cell_type": "code",
      "execution_count": null,
      "metadata": {},
      "outputs": [],
      "source": [
        "cleaned_dataset['Text'] = cleaned_dataset['Text'].str.replace('(?<=[.!?…])(?=[А-Я])', ' ', case=True)\n",
        "cleaned_dataset['Text'] = cleaned_dataset['Text'].str.replace('(?<=[!?…])(?=[A-Z])', ' ', case=True)\n",
        "cleaned_dataset['Text'] = cleaned_dataset['Text'].str.replace('(?<=[а-я])(?=[А-Я])', '. ', case=True)\n",
        "cleaned_dataset['Text'] = cleaned_dataset['Text'].str.replace('CоV', 'CoV', case=True)\n",
        "cleaned_dataset['Text'] = cleaned_dataset['Text'].str.replace('(?<=[а-я])(?=[A-Z])', '. ', case=True)\n",
        "cleaned_dataset['Text'] = cleaned_dataset['Text'].str.replace('(?<=[a-z])(?=[А-Я])', '. ', case=True)"
      ]
    },
    {
      "cell_type": "code",
      "metadata": {
        "id": "3hO1ri0x_igf",
        "colab_type": "code",
        "outputId": "33e7c87e-b062-409f-e019-cb9d5ec4eca6",
        "colab": {
          "base_uri": "https://localhost:8080/",
          "height": 206
        }
      },
      "source": [
        "cleaned_dataset.head()"
      ],
      "execution_count": 25,
      "outputs": [
        {
          "output_type": "execute_result",
          "data": {
            "text/html": [
              "<div>\n",
              "<style scoped>\n",
              "    .dataframe tbody tr th:only-of-type {\n",
              "        vertical-align: middle;\n",
              "    }\n",
              "\n",
              "    .dataframe tbody tr th {\n",
              "        vertical-align: top;\n",
              "    }\n",
              "\n",
              "    .dataframe thead th {\n",
              "        text-align: right;\n",
              "    }\n",
              "</style>\n",
              "<table border=\"1\" class=\"dataframe\">\n",
              "  <thead>\n",
              "    <tr style=\"text-align: right;\">\n",
              "      <th></th>\n",
              "      <th>Head_rubric</th>\n",
              "      <th>Head_title</th>\n",
              "      <th>Text</th>\n",
              "    </tr>\n",
              "  </thead>\n",
              "  <tbody>\n",
              "    <tr>\n",
              "      <th>0</th>\n",
              "      <td>Экономика</td>\n",
              "      <td>Эксперты выяснили, кто в России чаще всего бер...</td>\n",
              "      <td>Руководители высшего звена предприятия или учр...</td>\n",
              "    </tr>\n",
              "    <tr>\n",
              "      <th>1</th>\n",
              "      <td>Экономика</td>\n",
              "      <td>\"Пятый канал\" сохраняет лидерство по среднесут...</td>\n",
              "      <td>По данным Mediascope на конец 2019 года, канал...</td>\n",
              "    </tr>\n",
              "    <tr>\n",
              "      <th>2</th>\n",
              "      <td>Экономика</td>\n",
              "      <td>Ставки вниз: сколько будут стоить кредиты в 20...</td>\n",
              "      <td>Аналитики полагают, что в первом полугодии 202...</td>\n",
              "    </tr>\n",
              "    <tr>\n",
              "      <th>3</th>\n",
              "      <td>Экономика</td>\n",
              "      <td>Где отдыхали россияне в 2019 году</td>\n",
              "      <td>\"В 2019 году Крым принял 7 миллионов отдыхающи...</td>\n",
              "    </tr>\n",
              "    <tr>\n",
              "      <th>4</th>\n",
              "      <td>Экономика</td>\n",
              "      <td>В 2020 году может вернуться инвестиционный спр...</td>\n",
              "      <td>\"В прогнозах на 2019 год всех пугали сильным р...</td>\n",
              "    </tr>\n",
              "  </tbody>\n",
              "</table>\n",
              "</div>"
            ],
            "text/plain": [
              "  Head_rubric  ...                                               Text\n",
              "0   Экономика  ...  Руководители высшего звена предприятия или учр...\n",
              "1   Экономика  ...  По данным Mediascope на конец 2019 года, канал...\n",
              "2   Экономика  ...  Аналитики полагают, что в первом полугодии 202...\n",
              "3   Экономика  ...  \"В 2019 году Крым принял 7 миллионов отдыхающи...\n",
              "4   Экономика  ...  \"В прогнозах на 2019 год всех пугали сильным р...\n",
              "\n",
              "[5 rows x 3 columns]"
            ]
          },
          "metadata": {
            "tags": []
          },
          "execution_count": 25
        }
      ]
    },
    {
      "cell_type": "code",
      "metadata": {
        "id": "LrciZoBq5E6H",
        "colab_type": "code",
        "outputId": "25d39551-6ab5-435e-9f62-892127d53230",
        "colab": {
          "base_uri": "https://localhost:8080/",
          "height": 261
        }
      },
      "source": [
        "!pip install --upgrade razdel pymorphy2"
      ],
      "execution_count": 26,
      "outputs": [
        {
          "output_type": "stream",
          "text": [
            "Collecting razdel\n",
            "  Downloading https://files.pythonhosted.org/packages/15/2c/664223a3924aa6e70479f7d37220b3a658765b9cfe760b4af7ffdc50d38f/razdel-0.5.0-py3-none-any.whl\n",
            "Collecting pymorphy2\n",
            "\u001b[?25l  Downloading https://files.pythonhosted.org/packages/a3/33/fff9675c68b5f6c63ec8c6e6ff57827dda28a1fa5b2c2d727dffff92dd47/pymorphy2-0.8-py2.py3-none-any.whl (46kB)\n",
            "\u001b[K     |████████████████████████████████| 51kB 6.3MB/s \n",
            "\u001b[?25hCollecting pymorphy2-dicts<3.0,>=2.4\n",
            "\u001b[?25l  Downloading https://files.pythonhosted.org/packages/02/51/2465fd4f72328ab50877b54777764d928da8cb15b74e2680fc1bd8cb3173/pymorphy2_dicts-2.4.393442.3710985-py2.py3-none-any.whl (7.1MB)\n",
            "\u001b[K     |████████████████████████████████| 7.1MB 25.7MB/s \n",
            "\u001b[?25hRequirement already satisfied, skipping upgrade: docopt>=0.6 in /usr/local/lib/python3.6/dist-packages (from pymorphy2) (0.6.2)\n",
            "Collecting dawg-python>=0.7\n",
            "  Downloading https://files.pythonhosted.org/packages/6a/84/ff1ce2071d4c650ec85745766c0047ccc3b5036f1d03559fd46bb38b5eeb/DAWG_Python-0.7.2-py2.py3-none-any.whl\n",
            "Installing collected packages: razdel, pymorphy2-dicts, dawg-python, pymorphy2\n",
            "Successfully installed dawg-python-0.7.2 pymorphy2-0.8 pymorphy2-dicts-2.4.393442.3710985 razdel-0.5.0\n"
          ],
          "name": "stdout"
        }
      ]
    },
    {
      "cell_type": "markdown",
      "metadata": {},
      "source": [
        "Let's count statistics by words."
      ]
    },
    {
      "cell_type": "code",
      "metadata": {
        "id": "Wndwtc_t5dSL",
        "colab_type": "code",
        "colab": {}
      },
      "source": [
        "from collections import Counter, namedtuple\n",
        "import razdel\n",
        "import pymorphy2\n",
        "\n",
        "USEFUL_POS = ['NOUN', 'ADJF', 'ADJS', 'COMP',\n",
        "              'VERB', 'INFN', 'PRTF', 'PRTS', \n",
        "              'GRND', 'ADVB', 'NPRO', 'PRED']\n",
        "\n",
        "Stats = namedtuple(\"Stats\", \"vocabulary, lemma_vocabulary, words_counts, unique_words_counts\")"
      ],
      "execution_count": 0,
      "outputs": []
    },
    {
      "cell_type": "markdown",
      "metadata": {},
      "source": [
        "Define some utils functions."
      ]
    },
    {
      "cell_type": "code",
      "metadata": {
        "id": "VF2NE2z_5hic",
        "colab_type": "code",
        "colab": {}
      },
      "source": [
        "def collect_statistics(data, max_words):\n",
        "    pm = pymorphy2.MorphAnalyzer()\n",
        "    stats = Stats(Counter(),  Counter(), list(), list())\n",
        "    for text in data:\n",
        "        process_text(text, stats, max_words, pm)\n",
        "    return stats\n",
        "\n",
        "\n",
        "def process_text(text, text_stats, max_words, analyzer):\n",
        "    words = [word.text for word in razdel.tokenize(text)][:max_words]\n",
        "    lemmas = [analyzer.parse(word)[0] for word in words]\n",
        "    lemmas = [lemma for lemma in lemmas if lemma.tag.POS in USEFUL_POS]\n",
        "    words = [lemma.word for lemma in lemmas]\n",
        "    lemmas = [lemma.normal_form for lemma in lemmas]\n",
        "    text_stats.vocabulary.update(words)\n",
        "    text_stats.lemma_vocabulary.update(lemmas)\n",
        "    text_stats.words_counts.append(len(words))\n",
        "    text_stats.unique_words_counts.append(len(set(words)))\n",
        "\n",
        "\n",
        "def draw_stat_hists(data, bins=10, label=None):\n",
        "    words = data.words_counts\n",
        "    uwords = data.unique_words_counts\n",
        "    if label is not None:\n",
        "        label = \" in single \" + label\n",
        "    else:\n",
        "        label = \"\"\n",
        "    fig, (ax1, ax2) = plt.subplots(1, 2, figsize=(18, 5))\n",
        "    ax1.hist(words, bins)\n",
        "    ax1.set_title(\"Words\" + label)\n",
        "    ax1.set_xlabel(\"Num of words\")\n",
        "    ax1.set_ylabel(\"Examples\")\n",
        "    ax2.hist(uwords, bins)\n",
        "    ax2.set_title(\"Unique words\" + label)\n",
        "    ax2.set_xlabel(\"Num of words\")\n",
        "    ax2.set_ylabel(\"Examples\")\n",
        "    plt.show()"
      ],
      "execution_count": 0,
      "outputs": []
    },
    {
      "cell_type": "markdown",
      "metadata": {},
      "source": [
        "We collect statistics for a quarter of our dataset, taking these examples with a uniform distribution. We assume that so many examples will be enough to extrapolate the obtained statistics to the full dataset."
      ]
    },
    {
      "cell_type": "code",
      "metadata": {
        "id": "GIeaE2D_K-rP",
        "colab_type": "code",
        "colab": {}
      },
      "source": [
        "np.random.seed(13)\n",
        "examples = 30000\n",
        "indices = np.random.randint(len(cleaned_dataset), size=examples)\n",
        "text_data = cleaned_dataset['Text'].values[indices]\n",
        "header_data = cleaned_dataset['Head_title'].values[indices]"
      ],
      "execution_count": 0,
      "outputs": []
    },
    {
      "cell_type": "code",
      "metadata": {
        "id": "J4MZqGcg5pii",
        "colab_type": "code",
        "outputId": "88c5a1c5-4fb9-494b-a06d-4e393f0181f3",
        "colab": {
          "base_uri": "https://localhost:8080/",
          "height": 54
        }
      },
      "source": [
        "%%time\n",
        "text_stats = collect_statistics(text_data, max_words=3000)\n",
        "header_stats = collect_statistics(header_data, max_words=3000)"
      ],
      "execution_count": 30,
      "outputs": [
        {
          "output_type": "stream",
          "text": [
            "CPU times: user 34min 43s, sys: 498 ms, total: 34min 43s\n",
            "Wall time: 34min 45s\n"
          ],
          "name": "stdout"
        }
      ]
    },
    {
      "cell_type": "code",
      "metadata": {
        "id": "QfiZC6BG6VjH",
        "colab_type": "code",
        "outputId": "78d2f9e6-f4e1-44e4-a53e-39acb372971e",
        "colab": {
          "base_uri": "https://localhost:8080/",
          "height": 111
        }
      },
      "source": [
        "print(\"Texts vocabulary size: \", len(text_stats.vocabulary))\n",
        "print(\"Texts lemma vocabulary size: \", len(text_stats.lemma_vocabulary))\n",
        "print(\"Headers vocabulary size: \", len(header_stats.vocabulary))\n",
        "print(\"Headers lemma vocabulary size: \", len(header_stats.lemma_vocabulary))\n",
        "print(\"Common lemmas headers vs texts: \", len(set(header_stats.lemma_vocabulary.keys()) & set(text_stats.lemma_vocabulary.keys())))"
      ],
      "execution_count": 31,
      "outputs": [
        {
          "output_type": "stream",
          "text": [
            "Texts vocabulary size:  340264\n",
            "Texts lemma vocabulary size:  148757\n",
            "Headers vocabulary size:  37760\n",
            "Headers lemma vocabulary size:  18595\n",
            "Common lemmas headers vs texts:  18198\n"
          ],
          "name": "stdout"
        }
      ]
    },
    {
      "cell_type": "code",
      "metadata": {
        "id": "AJZSIkFZA5h5",
        "colab_type": "code",
        "outputId": "b0b24167-47d1-4b61-f559-919b0ec2a836",
        "colab": {
          "base_uri": "https://localhost:8080/",
          "height": 204
        }
      },
      "source": [
        "text_stats.lemma_vocabulary.most_common(10)"
      ],
      "execution_count": 32,
      "outputs": [
        {
          "output_type": "execute_result",
          "data": {
            "text/plain": [
              "[('быть', 80059),\n",
              " ('он', 64909),\n",
              " ('год', 57773),\n",
              " ('который', 50588),\n",
              " ('весь', 40861),\n",
              " ('они', 38217),\n",
              " ('один', 37071),\n",
              " ('тот', 34600),\n",
              " ('мы', 31425),\n",
              " ('это', 30410)]"
            ]
          },
          "metadata": {
            "tags": []
          },
          "execution_count": 32
        }
      ]
    },
    {
      "cell_type": "code",
      "metadata": {
        "id": "Y3TIc2O8NGik",
        "colab_type": "code",
        "outputId": "faa2767a-5f44-4704-b334-146b45c04fbf",
        "colab": {
          "base_uri": "https://localhost:8080/",
          "height": 204
        }
      },
      "source": [
        "header_stats.lemma_vocabulary.most_common(10)"
      ],
      "execution_count": 33,
      "outputs": [
        {
          "output_type": "execute_result",
          "data": {
            "text/plain": [
              "[('россия', 1285),\n",
              " ('москва', 905),\n",
              " ('коронавирус', 786),\n",
              " ('путин', 766),\n",
              " ('человек', 754),\n",
              " ('год', 748),\n",
              " ('сша', 711),\n",
              " ('назвать', 688),\n",
              " ('быть', 607),\n",
              " ('один', 592)]"
            ]
          },
          "metadata": {
            "tags": []
          },
          "execution_count": 33
        }
      ]
    },
    {
      "cell_type": "code",
      "metadata": {
        "id": "CWzZ6iEcVUJ5",
        "colab_type": "code",
        "outputId": "63ef5762-83d2-4ec1-b41c-ce49fa01fe07",
        "colab": {
          "base_uri": "https://localhost:8080/",
          "height": 350
        }
      },
      "source": [
        "draw_stat_hists(text_stats, 50, label='text')"
      ],
      "execution_count": 34,
      "outputs": [
        {
          "output_type": "display_data",
          "data": {
            "image/png": "[encoded data removed]",
            "text/plain": [
              "<Figure size 1296x360 with 2 Axes>"
            ]
          },
          "metadata": {
            "tags": [],
            "needs_background": "light"
          }
        }
      ]
    },
    {
      "cell_type": "code",
      "metadata": {
        "id": "Fwm2fZ66YbMZ",
        "colab_type": "code",
        "outputId": "c998cb79-0c9f-4ffb-896f-3f238151af3d",
        "colab": {
          "base_uri": "https://localhost:8080/",
          "height": 350
        }
      },
      "source": [
        "draw_stat_hists(header_stats, 15, label='header')"
      ],
      "execution_count": 35,
      "outputs": [
        {
          "output_type": "display_data",
          "data": {
            "image/png": "[encoded data removed]",
            "text/plain": [
              "<Figure size 1296x360 with 2 Axes>"
            ]
          },
          "metadata": {
            "tags": [],
            "needs_background": "light"
          }
        }
      ]
    }
  ],
  "metadata": {
    "colab": {
      "name": "Untitled",
      "provenance": [],
      "collapsed_sections": []
    },
    "kernelspec": {
      "name": "python37664bitbaseconda0734b438104847bf97960a35e7cbfc8a",
      "display_name": "Python 3.7.6 64-bit ('base': conda)"
    }
  },
  "nbformat": 4,
  "nbformat_minor": 0
}