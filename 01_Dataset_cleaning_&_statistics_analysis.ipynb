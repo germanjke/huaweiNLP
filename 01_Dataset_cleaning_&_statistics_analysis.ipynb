{
  "nbformat": 4,
  "nbformat_minor": 0,
  "metadata": {
    "colab": {
      "name": "Untitled",
      "provenance": [],
      "collapsed_sections": []
    },
    "kernelspec": {
      "name": "python3",
      "display_name": "Python 3"
    }
  },
  "cells": [
    {
      "cell_type": "code",
      "metadata": {
        "id": "fRBd-p3Z34j2",
        "colab_type": "code",
        "colab": {}
      },
      "source": [
        "import pandas as pd\n",
        "import numpy as np\n",
        "import matplotlib.pyplot as plt"
      ],
      "execution_count": 0,
      "outputs": []
    },
    {
      "cell_type": "markdown",
      "metadata": {
        "id": "MQ2Elhka0fid",
        "colab_type": "text"
      },
      "source": [
        "For our summarization task we would use our second dataset that contains 134010 lines."
      ]
    },
    {
      "cell_type": "code",
      "metadata": {
        "id": "L9o5ew4q0Xmn",
        "colab_type": "code",
        "colab": {
          "base_uri": "https://localhost:8080/",
          "height": 36
        },
        "outputId": "981ad489-4585-4aef-8a51-76f748525f79"
      },
      "source": [
        "from google.colab import drive\n",
        "drive.mount('/content/drive')"
      ],
      "execution_count": 2,
      "outputs": [
        {
          "output_type": "stream",
          "text": [
            "Drive already mounted at /content/drive; to attempt to forcibly remount, call drive.mount(\"/content/drive\", force_remount=True).\n"
          ],
          "name": "stdout"
        }
      ]
    },
    {
      "cell_type": "code",
      "metadata": {
        "id": "9gupzvTt4egf",
        "colab_type": "code",
        "colab": {}
      },
      "source": [
        "df1 = pd.read_json('/content/drive/My Drive/RusPaperFull/RG01.json')\n",
        "df2 = pd.read_json('/content/drive/My Drive/RusPaperFull/RG02.json')\n",
        "df3 = pd.read_json('/content/drive/My Drive/RusPaperFull/RG03.json')\n",
        "df4 = pd.read_json('/content/drive/My Drive/RusPaperFull/RG04.json')\n",
        "df5 = pd.read_json('/content/drive/My Drive/RusPaperFull/RG05.json')\n",
        "df6 = pd.read_json('/content/drive/My Drive/RusPaperFull/RG06.json')\n",
        "df7 = pd.read_json('/content/drive/My Drive/RusPaperFull/RG07.json')"
      ],
      "execution_count": 0,
      "outputs": []
    },
    {
      "cell_type": "code",
      "metadata": {
        "id": "pgVBpugf42kg",
        "colab_type": "code",
        "outputId": "097e64f3-dfbf-4c7a-bb27-e46171c17500",
        "colab": {
          "base_uri": "https://localhost:8080/",
          "height": 73
        }
      },
      "source": [
        "full_data = pd.concat([df1, df2, df3, df4, df5, df6, df7])\n",
        "print(\"Total lines in base dataframe:\", len(full_data))\n",
        "print(\"Total duplicated lines:\", len(full_data[full_data.duplicated(keep='first')]))\n",
        "df = full_data.drop_duplicates()\n",
        "print(\"Total unique lines in cleaned dataframe:\", len(df))"
      ],
      "execution_count": 4,
      "outputs": [
        {
          "output_type": "stream",
          "text": [
            "Total lines in base dataframe: 134010\n",
            "Total duplicated lines: 16\n",
            "Total unique lines in cleaned dataframe: 133994\n"
          ],
          "name": "stdout"
        }
      ]
    },
    {
      "cell_type": "markdown",
      "metadata": {
        "id": "_4oQRaR21qvD",
        "colab_type": "text"
      },
      "source": [
        "Let's have a first look at our data common stats."
      ]
    },
    {
      "cell_type": "code",
      "metadata": {
        "id": "ILzfWHu21vny",
        "colab_type": "code",
        "colab": {
          "base_uri": "https://localhost:8080/",
          "height": 317
        },
        "outputId": "12640117-a752-4fc7-deb2-908cb3750a86"
      },
      "source": [
        "df.info()"
      ],
      "execution_count": 5,
      "outputs": [
        {
          "output_type": "stream",
          "text": [
            "<class 'pandas.core.frame.DataFrame'>\n",
            "Int64Index: 133994 entries, 0 to 19136\n",
            "Data columns (total 9 columns):\n",
            " #   Column         Non-Null Count   Dtype \n",
            "---  ------         --------------   ----- \n",
            " 0   Article_id     133994 non-null  int64 \n",
            " 1   Url            133994 non-null  object\n",
            " 2   Date_time      133994 non-null  object\n",
            " 3   Head_rubric    130537 non-null  object\n",
            " 4   Head_title     133857 non-null  object\n",
            " 5   Head_subtitle  29880 non-null   object\n",
            " 6   Text           133889 non-null  object\n",
            " 7   Keywords       133509 non-null  object\n",
            " 8   Authors        133509 non-null  object\n",
            "dtypes: int64(1), object(8)\n",
            "memory usage: 10.2+ MB\n"
          ],
          "name": "stdout"
        }
      ]
    },
    {
      "cell_type": "markdown",
      "metadata": {
        "id": "pSi3QiOS1y8j",
        "colab_type": "text"
      },
      "source": [
        "At first we have 105 Null cells in Text column in dataframe that was not collected automatically due to specific of html and css formatting of some special news pages. And secondly we see 137 empty cells which must contain news titles. Let's get only lines that are full of texts."
      ]
    },
    {
      "cell_type": "code",
      "metadata": {
        "id": "qmH4LF2u48Jz",
        "colab_type": "code",
        "outputId": "1d741764-3f97-4df6-df8b-ff34f940af4e",
        "colab": {
          "base_uri": "https://localhost:8080/",
          "height": 36
        }
      },
      "source": [
        "df = df[df['Text'].notna()]\n",
        "df = df[df['Head_title'].notna()]\n",
        "print(\"Total unique lines in final dataframe:\", len(df))"
      ],
      "execution_count": 6,
      "outputs": [
        {
          "output_type": "stream",
          "text": [
            "Total unique lines in final dataframe: 133857\n"
          ],
          "name": "stdout"
        }
      ]
    },
    {
      "cell_type": "code",
      "metadata": {
        "id": "pJgq6hEd1-fJ",
        "colab_type": "code",
        "colab": {}
      },
      "source": [
        "df = df.sort_values('Date_time')"
      ],
      "execution_count": 0,
      "outputs": []
    },
    {
      "cell_type": "markdown",
      "metadata": {
        "id": "MeFIEgUR2dRq",
        "colab_type": "text"
      },
      "source": [
        "We sort our data for DateTime. When dividing data to training set and a test set, earlier data should put to the training set for preserving the time series. Now we have 603 lines that contains \"0001-01-01T00:00:00\" DateTime value. This happened during parsing process, when some news hadn't got any time stamps. Min value DateTime was automatically added. These lines represent only 0.5% of the total data set, save them too.\n",
        "\n",
        "After all for our summarization task we don't need any column except \"Text\" that to be used as inputs and \"Head_title\" that to be used as targets.\n",
        "\n",
        "**Но сначала соберём немного статистики по датасету для его анализа. Для этого уберём колонки, которые не несут для нас полезной информации.**"
      ]
    },
    {
      "cell_type": "code",
      "metadata": {
        "id": "d2k7xzvK5ERw",
        "colab_type": "code",
        "colab": {}
      },
      "source": [
        "df = df.drop(['Article_id', 'Url', 'Date_time', 'Head_subtitle', 'Authors'], axis=1)\n",
        "df = df.reset_index(drop=True)"
      ],
      "execution_count": 0,
      "outputs": []
    },
    {
      "cell_type": "code",
      "metadata": {
        "id": "6486vPCbaBsi",
        "colab_type": "code",
        "colab": {
          "base_uri": "https://localhost:8080/",
          "height": 223
        },
        "outputId": "9677ab20-add7-4767-a8b4-aa16180ce935"
      },
      "source": [
        "df.info()"
      ],
      "execution_count": 9,
      "outputs": [
        {
          "output_type": "stream",
          "text": [
            "<class 'pandas.core.frame.DataFrame'>\n",
            "RangeIndex: 133857 entries, 0 to 133856\n",
            "Data columns (total 4 columns):\n",
            " #   Column       Non-Null Count   Dtype \n",
            "---  ------       --------------   ----- \n",
            " 0   Head_rubric  130537 non-null  object\n",
            " 1   Head_title   133857 non-null  object\n",
            " 2   Text         133857 non-null  object\n",
            " 3   Keywords     133375 non-null  object\n",
            "dtypes: object(4)\n",
            "memory usage: 4.1+ MB\n"
          ],
          "name": "stdout"
        }
      ]
    },
    {
      "cell_type": "markdown",
      "metadata": {
        "id": "oKJ8P8oM3a1k",
        "colab_type": "text"
      },
      "source": [
        "**Определим несколько вспомогательных функций.**"
      ]
    },
    {
      "cell_type": "code",
      "metadata": {
        "id": "exnRLm_n_qMn",
        "colab_type": "code",
        "colab": {}
      },
      "source": [
        "def get_rubrics_stat(dataset):\n",
        "    unique_rubrics = dataset.Head_rubric.unique()\n",
        "    print(\"Total rubrics:\", len(unique_rubrics))\n",
        "    rubrics = {}\n",
        "    for item in unique_rubrics:\n",
        "        if item is None:\n",
        "            rubrics[item] = len(dataset[dataset[\"Head_rubric\"].isna()])\n",
        "            continue\n",
        "        rubrics[item] = len(dataset[dataset[\"Head_rubric\"] == item])\n",
        "    return rubrics\n",
        "\n",
        "    \n",
        "def show_rubrics_stat(rubrics):    \n",
        "    sorted_r = {k: v for k, v in sorted(rubrics.items(), key=lambda item: item[1], reverse=True)}\n",
        "    for k, v in sorted_r.items():\n",
        "        print(\"%s: %s\" % (k, v))\n",
        "\n",
        "\n",
        "def replace_minor_headrubrics(dataset, stats, threshold):\n",
        "    major = []\n",
        "    minor = []\n",
        "    for key, val in stats.items():\n",
        "        if val > threshold:\n",
        "            major.append(key)\n",
        "        else:\n",
        "            minor.append(key)\n",
        "    for name in minor:\n",
        "        temp = dataset[dataset['Head_rubric'] == name]\n",
        "        new = None\n",
        "        flag = False\n",
        "        for _, row in temp.iterrows():\n",
        "            if row['Keywords'] is None:\n",
        "                continue\n",
        "            keywords = [x.strip() for x in row['Keywords'].split(',')]\n",
        "            for item in keywords:\n",
        "                if item in major:\n",
        "                    new = item\n",
        "                    flag = True\n",
        "                    break\n",
        "            if flag: break\n",
        "        dataset.Head_rubric[dataset.Head_rubric == name] = new\n",
        "\n",
        "\n",
        "def relabel_empty_headrubrics(dataset, stats):\n",
        "    head_rubrics = [x for x in stats.keys() if x is not None]\n",
        "    for index, row in dataset.iterrows():\n",
        "        if row['Head_rubric'] is None:\n",
        "            if row['Keywords'] is None:\n",
        "                continue\n",
        "            keywords = [x.strip() for x in row['Keywords'].split(',')]\n",
        "            for item in keywords:\n",
        "                if item in head_rubrics:\n",
        "                    row['Head_rubric'] = item\n",
        "                    continue"
      ],
      "execution_count": 0,
      "outputs": []
    },
    {
      "cell_type": "code",
      "metadata": {
        "id": "VBw5Rp-6F8GT",
        "colab_type": "code",
        "colab": {
          "base_uri": "https://localhost:8080/",
          "height": 1000
        },
        "outputId": "9ef3d50c-8b2c-4598-9a54-1cf76a654386"
      },
      "source": [
        "hr_stat = get_rubrics_stat(df)\n",
        "show_rubrics_stat(hr_stat)"
      ],
      "execution_count": 11,
      "outputs": [
        {
          "output_type": "stream",
          "text": [
            "Total rubrics: 78\n",
            "Спорт: 20553\n",
            "Происшествия: 20122\n",
            "В мире: 18585\n",
            "Власть: 18533\n",
            "Общество: 18301\n",
            "Культура: 17087\n",
            "Экономика: 16874\n",
            "None: 3320\n",
            "Бензин: 66\n",
            "Транспорт: 51\n",
            "Внутренняя политика: 39\n",
            "Работа власти: 28\n",
            "ДТП: 27\n",
            "Транспортное право: 23\n",
            "Административное право: 19\n",
            "Общественный транспорт: 19\n",
            "Инфраструктура: 18\n",
            "Промышленность: 14\n",
            "Госуправление: 12\n",
            "Товары и цены: 11\n",
            "Безопасность: 10\n",
            "Долги и кредиты: 9\n",
            "Налоги: 9\n",
            "Охрана порядка: 8\n",
            "Страхование: 7\n",
            "Суд: 6\n",
            "Криминал: 6\n",
            "Образ жизни: 6\n",
            "Регионы: 5\n",
            "Право: 5\n",
            "Крупные компании: 5\n",
            "Германия: 5\n",
            "Легковые авто: 5\n",
            "Уголовное право: 4\n",
            "Аукционы и коллекции: 3\n",
            "Внешняя политика: 3\n",
            "Правоохранительная система: 3\n",
            "Япония: 3\n",
            "США: 3\n",
            "Социология: 3\n",
            "Позиция: 2\n",
            "Личные документы: 2\n",
            "Актуальное искусство: 2\n",
            "Нефть и газ: 2\n",
            "Туризм: 2\n",
            "Соцсфера: 2\n",
            "Наука: 2\n",
            "Гражданское право: 2\n",
            "Дороги: 2\n",
            "Кино и ТВ: 1\n",
            "Игроки и тренеры: 1\n",
            "Литература: 1\n",
            "Земля: 1\n",
            "Жилищное право: 1\n",
            "Железные дороги: 1\n",
            "ТВ и сериалы: 1\n",
            "ЖКХ: 1\n",
            "Банки: 1\n",
            "Живопись: 1\n",
            "Правосудие: 1\n",
            "Бразилия: 1\n",
            "ЧП: 1\n",
            "Великобритания: 1\n",
            "Образование: 1\n",
            "Пенсии и пособия: 1\n",
            "Фотография: 1\n",
            "Юрконсультация: 1\n",
            "Семья и дети: 1\n",
            "Финансы: 1\n",
            "Малый бизнес: 1\n",
            "Связь: 1\n",
            "Австралия: 1\n",
            "Религия: 1\n",
            "Утраты: 1\n",
            "Турция: 1\n",
            "Инновации: 1\n",
            "Южная Корея: 1\n",
            "Греция: 1\n"
          ],
          "name": "stdout"
        }
      ]
    },
    {
      "cell_type": "markdown",
      "metadata": {
        "id": "VJA4t9Ge5da0",
        "colab_type": "text"
      },
      "source": [
        "**Помимо 7 базовых новостных категорий в маркировке встречаются так же узкоспециальные лейблы, которые представлены всего несколькими новостными текстами. Максимально для такой минорной категории насчитывается 66 текстов. Переразметим каждый такой текст, взяв подходящую метку из списка Keywords, который включает в том числе и метки соответствующие одной из базовых категорий.**"
      ]
    },
    {
      "cell_type": "code",
      "metadata": {
        "id": "oG8MBPx8Rh4y",
        "colab_type": "code",
        "colab": {}
      },
      "source": [
        "replace_minor_headrubrics(df, hr_stat, threshold=66)"
      ],
      "execution_count": 0,
      "outputs": []
    },
    {
      "cell_type": "code",
      "metadata": {
        "id": "ovbdyhJbWwHU",
        "colab_type": "code",
        "colab": {
          "base_uri": "https://localhost:8080/",
          "height": 186
        },
        "outputId": "bc81d7f8-b36f-4bec-d021-0dde23144f9d"
      },
      "source": [
        "hr_stat = get_rubrics_stat(df)\n",
        "show_rubrics_stat(hr_stat)"
      ],
      "execution_count": 13,
      "outputs": [
        {
          "output_type": "stream",
          "text": [
            "Total rubrics: 8\n",
            "Спорт: 20554\n",
            "Происшествия: 20171\n",
            "Власть: 18697\n",
            "В мире: 18602\n",
            "Общество: 18320\n",
            "Культура: 17097\n",
            "Экономика: 17096\n",
            "None: 3320\n"
          ],
          "name": "stdout"
        }
      ]
    },
    {
      "cell_type": "markdown",
      "metadata": {
        "id": "fOxSEz1B6_vH",
        "colab_type": "text"
      },
      "source": [
        "**После переразметки текстов из минорных категорий у нас осталось 3320 текстов без меток вовсе. Разметим их аналогично, взяв подходящую метку из списка Keywords.**"
      ]
    },
    {
      "cell_type": "code",
      "metadata": {
        "id": "bpiRHhSimBF1",
        "colab_type": "code",
        "colab": {}
      },
      "source": [
        "relabel_empty_headrubrics(df, hr_stat)"
      ],
      "execution_count": 0,
      "outputs": []
    },
    {
      "cell_type": "code",
      "metadata": {
        "id": "VMS2aZWissTN",
        "colab_type": "code",
        "colab": {
          "base_uri": "https://localhost:8080/",
          "height": 186
        },
        "outputId": "f1cd5856-ca04-4824-9b13-2b447d61bfc9"
      },
      "source": [
        "show_rubrics_stat(get_rubrics_stat(df))"
      ],
      "execution_count": 15,
      "outputs": [
        {
          "output_type": "stream",
          "text": [
            "Total rubrics: 8\n",
            "Спорт: 20561\n",
            "Происшествия: 20227\n",
            "Власть: 19092\n",
            "В мире: 18788\n",
            "Общество: 18579\n",
            "Культура: 18416\n",
            "Экономика: 18193\n",
            "None: 1\n"
          ],
          "name": "stdout"
        }
      ]
    },
    {
      "cell_type": "markdown",
      "metadata": {
        "id": "ciwJyZKV71wQ",
        "colab_type": "text"
      },
      "source": [
        "**У нас остался один текст, для которого изначально не было метки категории и был пустой список Keywords. Посмотрим что это за новость.**"
      ]
    },
    {
      "cell_type": "code",
      "metadata": {
        "id": "JoDBfZFW_Yyw",
        "colab_type": "code",
        "colab": {
          "base_uri": "https://localhost:8080/",
          "height": 81
        },
        "outputId": "4f581776-d342-4433-be0c-227c7b75c8de"
      },
      "source": [
        "df[df['Head_rubric'].isna()]"
      ],
      "execution_count": 16,
      "outputs": [
        {
          "output_type": "execute_result",
          "data": {
            "text/html": [
              "<div>\n",
              "<style scoped>\n",
              "    .dataframe tbody tr th:only-of-type {\n",
              "        vertical-align: middle;\n",
              "    }\n",
              "\n",
              "    .dataframe tbody tr th {\n",
              "        vertical-align: top;\n",
              "    }\n",
              "\n",
              "    .dataframe thead th {\n",
              "        text-align: right;\n",
              "    }\n",
              "</style>\n",
              "<table border=\"1\" class=\"dataframe\">\n",
              "  <thead>\n",
              "    <tr style=\"text-align: right;\">\n",
              "      <th></th>\n",
              "      <th>Head_rubric</th>\n",
              "      <th>Head_title</th>\n",
              "      <th>Text</th>\n",
              "      <th>Keywords</th>\n",
              "    </tr>\n",
              "  </thead>\n",
              "  <tbody>\n",
              "    <tr>\n",
              "      <th>148</th>\n",
              "      <td>None</td>\n",
              "      <td>Декрет Высшего Государственного Совета Союзног...</td>\n",
              "      <td>Принят Парламентским Собранием Союза Беларуси ...</td>\n",
              "      <td>None</td>\n",
              "    </tr>\n",
              "  </tbody>\n",
              "</table>\n",
              "</div>"
            ],
            "text/plain": [
              "    Head_rubric  ... Keywords\n",
              "148        None  ...     None\n",
              "\n",
              "[1 rows x 4 columns]"
            ]
          },
          "metadata": {
            "tags": []
          },
          "execution_count": 16
        }
      ]
    },
    {
      "cell_type": "markdown",
      "metadata": {
        "id": "G1rvgzVg8QBH",
        "colab_type": "text"
      },
      "source": [
        "**Новость представляет собой публикацию нормативно-правового акта Республики Беларусь. Данный текст не представляет для нас ценности, т.к. подобная публикация носит формальный характер и фактически не отражает каких-либо произошедших событий. Удалим этот единственный текст и колонку Keywords, и получим окончательный набор в датасете с которым продолжим работу.**"
      ]
    },
    {
      "cell_type": "code",
      "metadata": {
        "id": "IHiYua-U9RHQ",
        "colab_type": "code",
        "colab": {}
      },
      "source": [
        "df.drop([148], inplace=True)\n",
        "df.drop(['Keywords'], axis=1, inplace=True)\n",
        "cleaned_dataset = df.reset_index(drop=True)"
      ],
      "execution_count": 0,
      "outputs": []
    },
    {
      "cell_type": "code",
      "metadata": {
        "id": "3hO1ri0x_igf",
        "colab_type": "code",
        "colab": {
          "base_uri": "https://localhost:8080/",
          "height": 206
        },
        "outputId": "b35e6709-5264-4819-d7cd-217657e0268f"
      },
      "source": [
        "cleaned_dataset.head()"
      ],
      "execution_count": 19,
      "outputs": [
        {
          "output_type": "execute_result",
          "data": {
            "text/html": [
              "<div>\n",
              "<style scoped>\n",
              "    .dataframe tbody tr th:only-of-type {\n",
              "        vertical-align: middle;\n",
              "    }\n",
              "\n",
              "    .dataframe tbody tr th {\n",
              "        vertical-align: top;\n",
              "    }\n",
              "\n",
              "    .dataframe thead th {\n",
              "        text-align: right;\n",
              "    }\n",
              "</style>\n",
              "<table border=\"1\" class=\"dataframe\">\n",
              "  <thead>\n",
              "    <tr style=\"text-align: right;\">\n",
              "      <th></th>\n",
              "      <th>Head_rubric</th>\n",
              "      <th>Head_title</th>\n",
              "      <th>Text</th>\n",
              "    </tr>\n",
              "  </thead>\n",
              "  <tbody>\n",
              "    <tr>\n",
              "      <th>0</th>\n",
              "      <td>Культура</td>\n",
              "      <td>Февральские тезисы от Солженицына</td>\n",
              "      <td>Тезис первый: В революции обычно побеждают не ...</td>\n",
              "    </tr>\n",
              "    <tr>\n",
              "      <th>1</th>\n",
              "      <td>Экономика</td>\n",
              "      <td>Роспотребнадзор: Лучше не покупать рыбные конс...</td>\n",
              "      <td>В начале уточняется, что рыбные консервы не мо...</td>\n",
              "    </tr>\n",
              "    <tr>\n",
              "      <th>2</th>\n",
              "      <td>Экономика</td>\n",
              "      <td>Коррупционеры стали брать не взятками, а платн...</td>\n",
              "      <td>Впервые за четыре года этой программы предприн...</td>\n",
              "    </tr>\n",
              "    <tr>\n",
              "      <th>3</th>\n",
              "      <td>Экономика</td>\n",
              "      <td>Урожай-2019: больше, чем в прошлом году</td>\n",
              "      <td>Эксперты дают более смелые прогнозы на итоговы...</td>\n",
              "    </tr>\n",
              "    <tr>\n",
              "      <th>4</th>\n",
              "      <td>Экономика</td>\n",
              "      <td>Россияне стали чаще самостоятельно покупать по...</td>\n",
              "      <td>В этом году, по данным ЦБ, максимальный рост с...</td>\n",
              "    </tr>\n",
              "  </tbody>\n",
              "</table>\n",
              "</div>"
            ],
            "text/plain": [
              "  Head_rubric  ...                                               Text\n",
              "0    Культура  ...  Тезис первый: В революции обычно побеждают не ...\n",
              "1   Экономика  ...  В начале уточняется, что рыбные консервы не мо...\n",
              "2   Экономика  ...  Впервые за четыре года этой программы предприн...\n",
              "3   Экономика  ...  Эксперты дают более смелые прогнозы на итоговы...\n",
              "4   Экономика  ...  В этом году, по данным ЦБ, максимальный рост с...\n",
              "\n",
              "[5 rows x 3 columns]"
            ]
          },
          "metadata": {
            "tags": []
          },
          "execution_count": 19
        }
      ]
    },
    {
      "cell_type": "code",
      "metadata": {
        "id": "LrciZoBq5E6H",
        "colab_type": "code",
        "outputId": "99e0a7d3-f542-4db7-a960-d1a367606328",
        "colab": {
          "base_uri": "https://localhost:8080/",
          "height": 261
        }
      },
      "source": [
        "!pip install --upgrade razdel pymorphy2"
      ],
      "execution_count": 20,
      "outputs": [
        {
          "output_type": "stream",
          "text": [
            "Collecting razdel\n",
            "  Downloading https://files.pythonhosted.org/packages/15/2c/664223a3924aa6e70479f7d37220b3a658765b9cfe760b4af7ffdc50d38f/razdel-0.5.0-py3-none-any.whl\n",
            "Collecting pymorphy2\n",
            "\u001b[?25l  Downloading https://files.pythonhosted.org/packages/a3/33/fff9675c68b5f6c63ec8c6e6ff57827dda28a1fa5b2c2d727dffff92dd47/pymorphy2-0.8-py2.py3-none-any.whl (46kB)\n",
            "\u001b[K     |████████████████████████████████| 51kB 3.4MB/s \n",
            "\u001b[?25hCollecting dawg-python>=0.7\n",
            "  Downloading https://files.pythonhosted.org/packages/6a/84/ff1ce2071d4c650ec85745766c0047ccc3b5036f1d03559fd46bb38b5eeb/DAWG_Python-0.7.2-py2.py3-none-any.whl\n",
            "Collecting pymorphy2-dicts<3.0,>=2.4\n",
            "\u001b[?25l  Downloading https://files.pythonhosted.org/packages/02/51/2465fd4f72328ab50877b54777764d928da8cb15b74e2680fc1bd8cb3173/pymorphy2_dicts-2.4.393442.3710985-py2.py3-none-any.whl (7.1MB)\n",
            "\u001b[K     |████████████████████████████████| 7.1MB 11.0MB/s \n",
            "\u001b[?25hRequirement already satisfied, skipping upgrade: docopt>=0.6 in /usr/local/lib/python3.6/dist-packages (from pymorphy2) (0.6.2)\n",
            "Installing collected packages: razdel, dawg-python, pymorphy2-dicts, pymorphy2\n",
            "Successfully installed dawg-python-0.7.2 pymorphy2-0.8 pymorphy2-dicts-2.4.393442.3710985 razdel-0.5.0\n"
          ],
          "name": "stdout"
        }
      ]
    },
    {
      "cell_type": "code",
      "metadata": {
        "id": "Wndwtc_t5dSL",
        "colab_type": "code",
        "colab": {}
      },
      "source": [
        "from collections import Counter, namedtuple\n",
        "import razdel\n",
        "import pymorphy2\n",
        "\n",
        "USEFUL_POS = ['NOUN', 'ADJF', 'ADJS', 'COMP',\n",
        "              'VERB', 'INFN', 'PRTF', 'PRTS', \n",
        "              'GRND', 'ADVB', 'NPRO', 'PRED']\n",
        "\n",
        "Stats = namedtuple(\"Stats\", \"vocabulary, lemma_vocabulary, words_counts, unique_words_counts\")"
      ],
      "execution_count": 0,
      "outputs": []
    },
    {
      "cell_type": "code",
      "metadata": {
        "id": "VF2NE2z_5hic",
        "colab_type": "code",
        "colab": {}
      },
      "source": [
        "def collect_statistics(data, max_words):\n",
        "    pm = pymorphy2.MorphAnalyzer()\n",
        "    stats = Stats(Counter(),  Counter(), list(), list())\n",
        "    for text in data:\n",
        "        process_text(text, stats, max_words, pm)\n",
        "    return stats\n",
        "\n",
        "\n",
        "def process_text(text, text_stats, max_words, analyzer):\n",
        "    words = [word.text for word in razdel.tokenize(text)][:max_words]\n",
        "    lemmas = [analyzer.parse(word)[0] for word in words]\n",
        "    lemmas = [lemma for lemma in lemmas if lemma.tag.POS in USEFUL_POS]\n",
        "    words = [lemma.word for lemma in lemmas]\n",
        "    lemmas = [lemma.normal_form for lemma in lemmas]\n",
        "    text_stats.vocabulary.update(words)\n",
        "    text_stats.lemma_vocabulary.update(lemmas)\n",
        "    text_stats.words_counts.append(len(words))\n",
        "    text_stats.unique_words_counts.append(len(set(words)))\n",
        "\n",
        "\n",
        "def draw_stat_hists(data, bins=10, label=None):\n",
        "    words = data.words_counts\n",
        "    uwords = data.unique_words_counts\n",
        "    if label is not None:\n",
        "        label = \" in single \" + label\n",
        "    else:\n",
        "        label = \"\"\n",
        "    fig, (ax1, ax2) = plt.subplots(1, 2, figsize=(18, 5))\n",
        "    ax1.hist(words, bins)\n",
        "    ax1.set_title(\"Words\" + label)\n",
        "    ax1.set_xlabel(\"Num of words\")\n",
        "    ax1.set_ylabel(\"Examples\")\n",
        "    ax2.hist(uwords, bins)\n",
        "    ax2.set_title(\"Unique words\" + label)\n",
        "    ax2.set_xlabel(\"Num of words\")\n",
        "    ax2.set_ylabel(\"Examples\")\n",
        "    plt.show()"
      ],
      "execution_count": 0,
      "outputs": []
    },
    {
      "cell_type": "code",
      "metadata": {
        "id": "GIeaE2D_K-rP",
        "colab_type": "code",
        "colab": {}
      },
      "source": [
        "examples = 30000\n",
        "indices = np.random.randint(len(cleaned_dataset), size=examples)\n",
        "text_data = cleaned_dataset['Text'].values[indices]\n",
        "header_data = cleaned_dataset['Head_title'].values[indices]"
      ],
      "execution_count": 0,
      "outputs": []
    },
    {
      "cell_type": "code",
      "metadata": {
        "id": "J4MZqGcg5pii",
        "colab_type": "code",
        "outputId": "54bad221-a03b-45c6-b9a6-78f2db38b234",
        "colab": {
          "base_uri": "https://localhost:8080/",
          "height": 54
        }
      },
      "source": [
        "%%time\n",
        "text_stats = collect_statistics(text_data, max_words=3000)\n",
        "header_stats = collect_statistics(header_data, max_words=3000)"
      ],
      "execution_count": 24,
      "outputs": [
        {
          "output_type": "stream",
          "text": [
            "CPU times: user 41min 16s, sys: 495 ms, total: 41min 16s\n",
            "Wall time: 41min 19s\n"
          ],
          "name": "stdout"
        }
      ]
    },
    {
      "cell_type": "code",
      "metadata": {
        "id": "QfiZC6BG6VjH",
        "colab_type": "code",
        "outputId": "d484b29b-6aac-4cda-a4d3-122f0055c3fb",
        "colab": {
          "base_uri": "https://localhost:8080/",
          "height": 111
        }
      },
      "source": [
        "print(\"Texts vocabulary size: \", len(text_stats.vocabulary))\n",
        "print(\"Texts lemma vocabulary size: \", len(text_stats.lemma_vocabulary))\n",
        "print(\"Headers vocabulary size: \", len(header_stats.vocabulary))\n",
        "print(\"Headers lemma vocabulary size: \", len(header_stats.lemma_vocabulary))\n",
        "print(\"Common lemmas headers vs texts: \", len(set(header_stats.lemma_vocabulary.keys()) & set(text_stats.lemma_vocabulary.keys())))"
      ],
      "execution_count": 26,
      "outputs": [
        {
          "output_type": "stream",
          "text": [
            "Texts vocabulary size:  340296\n",
            "Texts lemma vocabulary size:  148382\n",
            "Headers vocabulary size:  37818\n",
            "Headers lemma vocabulary size:  18584\n",
            "Common lemmas headers vs texts:  18174\n"
          ],
          "name": "stdout"
        }
      ]
    },
    {
      "cell_type": "code",
      "metadata": {
        "id": "AJZSIkFZA5h5",
        "colab_type": "code",
        "outputId": "f8b0ce66-f41d-4f2d-b084-6b995d1a36f3",
        "colab": {
          "base_uri": "https://localhost:8080/",
          "height": 204
        }
      },
      "source": [
        "text_stats.lemma_vocabulary.most_common(10)"
      ],
      "execution_count": 27,
      "outputs": [
        {
          "output_type": "execute_result",
          "data": {
            "text/plain": [
              "[('быть', 79010),\n",
              " ('он', 63527),\n",
              " ('год', 57158),\n",
              " ('который', 50366),\n",
              " ('весь', 40297),\n",
              " ('они', 38436),\n",
              " ('один', 36913),\n",
              " ('тот', 34579),\n",
              " ('мы', 31194),\n",
              " ('это', 30231)]"
            ]
          },
          "metadata": {
            "tags": []
          },
          "execution_count": 27
        }
      ]
    },
    {
      "cell_type": "code",
      "metadata": {
        "id": "Y3TIc2O8NGik",
        "colab_type": "code",
        "colab": {
          "base_uri": "https://localhost:8080/",
          "height": 204
        },
        "outputId": "e8454b22-7c84-409c-faa1-58af4c1ec98e"
      },
      "source": [
        "header_stats.lemma_vocabulary.most_common(10)"
      ],
      "execution_count": 28,
      "outputs": [
        {
          "output_type": "execute_result",
          "data": {
            "text/plain": [
              "[('россия', 1257),\n",
              " ('москва', 927),\n",
              " ('путин', 819),\n",
              " ('коронавирус', 816),\n",
              " ('год', 768),\n",
              " ('человек', 736),\n",
              " ('назвать', 689),\n",
              " ('сша', 670),\n",
              " ('быть', 622),\n",
              " ('один', 593)]"
            ]
          },
          "metadata": {
            "tags": []
          },
          "execution_count": 28
        }
      ]
    },
    {
      "cell_type": "code",
      "metadata": {
        "id": "CWzZ6iEcVUJ5",
        "colab_type": "code",
        "outputId": "1d4a403d-2f5c-4253-fa5b-6f37cc9c3193",
        "colab": {
          "base_uri": "https://localhost:8080/",
          "height": 350
        }
      },
      "source": [
        "draw_stat_hists(text_stats, 50, label='text')"
      ],
      "execution_count": 31,
      "outputs": [
        {
          "output_type": "display_data",
          "data": {
            "image/png": "[encoded data removed]",
            "text/plain": [
              "<Figure size 1296x360 with 2 Axes>"
            ]
          },
          "metadata": {
            "tags": [],
            "needs_background": "light"
          }
        }
      ]
    },
    {
      "cell_type": "code",
      "metadata": {
        "id": "Fwm2fZ66YbMZ",
        "colab_type": "code",
        "outputId": "d449f49e-ad7b-43d6-9b5b-b8a89729acf5",
        "colab": {
          "base_uri": "https://localhost:8080/",
          "height": 350
        }
      },
      "source": [
        "draw_stat_hists(header_stats, 15, label='header')"
      ],
      "execution_count": 33,
      "outputs": [
        {
          "output_type": "display_data",
          "data": {
            "image/png": "[encoded data removed]",
            "text/plain": [
              "<Figure size 1296x360 with 2 Axes>"
            ]
          },
          "metadata": {
            "tags": [],
            "needs_background": "light"
          }
        }
      ]
    }
  ]
}