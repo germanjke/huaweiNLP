{
  "cells": [
    {
      "cell_type": "code",
      "execution_count": null,
      "metadata": {},
      "outputs": [],
      "source": [
        "!pip install youtokentome rouge razdel"
      ]
    },
    {
      "cell_type": "code",
      "metadata": {
        "id": "zXReIv5rZkGg",
        "colab_type": "code",
        "colab": {}
      },
      "source": [
        "import os\n",
        "import youtokentome as yttm\n",
        "import razdel\n",
        "import random\n",
        "import math\n",
        "import copy\n",
        "import torch\n",
        "import pandas as pd\n",
        "import numpy as np\n",
        "import matplotlib.pyplot as plt\n",
        "\n",
        "from tqdm.notebook import tqdm\n",
        "from collections import Counter\n",
        "from typing import List, Tuple\n",
        "from rouge import Rouge\n",
        "from nltk.translate.bleu_score import corpus_bleu\n",
        "from torch.utils import data"
      ],
      "execution_count": 0,
      "outputs": []
    },
    {
      "cell_type": "code",
      "metadata": {
        "id": "oNHMKnqtZkGp",
        "colab_type": "code",
        "colab": {
          "base_uri": "https://localhost:8080/",
          "height": 36
        },
        "outputId": "2ef38258-d435-4934-a0c6-bf44946d256d"
      },
      "source": [
        "DEVICE = torch.device('cuda' if torch.cuda.is_available() else 'cpu')\n",
        "print(DEVICE)"
      ],
      "execution_count": 6,
      "outputs": [
        {
          "output_type": "stream",
          "text": [
            "cuda\n"
          ],
          "name": "stdout"
        }
      ]
    },
    {
      "cell_type": "code",
      "execution_count": null,
      "metadata": {},
      "outputs": [],
      "source": [
        "from google.colab import drive\n",
        "drive.mount('/content/drive')"
      ]
    },
    {
      "cell_type": "code",
      "metadata": {
        "id": "5ln3XSAsZkGE",
        "colab_type": "code",
        "colab": {}
      },
      "source": [
        "cleaned_dataset = pd.read_json('/content/drive/My Drive/cleaned_dataset.json')"
      ],
      "execution_count": 0,
      "outputs": []
    },
    {
      "cell_type": "markdown",
      "metadata": {
        "id": "BIL43qfBZkG1",
        "colab_type": "text"
      },
      "source": [
        "Split data to train, val and test sets."
      ]
    },
    {
      "cell_type": "code",
      "metadata": {
        "id": "CE8f7MDpZkG2",
        "colab_type": "code",
        "colab": {}
      },
      "source": [
        "import sklearn.utils\n",
        "temp = cleaned_dataset[:]\n",
        "temp = sklearn.utils.shuffle(temp)\n",
        "\n",
        "train_records = temp[:100000]\n",
        "val_records = temp[100000:116000]\n",
        "test_records = temp[116000:]"
      ],
      "execution_count": 0,
      "outputs": []
    },
    {
      "cell_type": "markdown",
      "metadata": {
        "id": "DxFmfmlUZkHA",
        "colab_type": "text"
      },
      "source": [
        "Utils: score calculating"
      ]
    },
    {
      "cell_type": "code",
      "metadata": {
        "id": "ZzSUnFObZkHD",
        "colab_type": "code",
        "colab": {}
      },
      "source": [
        "def calc_scores(references, predictions, metric=\"all\"):\n",
        "    print(\"Count:\", len(predictions))\n",
        "    print(\"Last true headline:\", references[-1])\n",
        "    print(\"Last predicted headline:\", predictions[-1])\n",
        "\n",
        "    if metric in (\"bleu\", \"all\"):\n",
        "        print(\"\\nBLEU: \", corpus_bleu([[r] for r in references], predictions))\n",
        "    if metric in (\"rouge\", \"all\"):\n",
        "        rouge = Rouge()\n",
        "        scores = rouge.get_scores(predictions, references, avg=True)\n",
        "        scores_string = \"\"\n",
        "        for metric, value in scores.items():\n",
        "            scores_string += \"\\n\" + str(metric) + \":\" + str(value)\n",
        "        print(\"ROUGE: \", scores_string, \"\\n\")"
      ],
      "execution_count": 0,
      "outputs": []
    },
    {
      "cell_type": "markdown",
      "metadata": {
        "id": "zBoG6DooZkHK",
        "colab_type": "text"
      },
      "source": [
        "Byte Pair Encoding (BPE)"
      ]
    },
    {
      "cell_type": "code",
      "metadata": {
        "id": "M_fkYW1uZkHL",
        "colab_type": "code",
        "colab": {}
      },
      "source": [
        "def train_bpe(records, model_path, model_type=\"bpe\", vocab_size=30000, lower=True):\n",
        "    temp_file_name = \"temp.txt\"\n",
        "    with open(temp_file_name, \"w\") as temp:\n",
        "        for text, title in tqdm(records[['Text', 'Head_title']].values):\n",
        "            if lower:\n",
        "                title = title.lower()\n",
        "                text = text.lower()\n",
        "            if not text or not title:\n",
        "                continue\n",
        "            temp.write(text + \"\\n\")\n",
        "            temp.write(title + \"\\n\")\n",
        "    yttm.BPE.train(data=temp_file_name, vocab_size=vocab_size, model=model_path)"
      ],
      "execution_count": 0,
      "outputs": []
    },
    {
      "cell_type": "code",
      "metadata": {
        "id": "LAp4lJZGZkHU",
        "colab_type": "code",
        "colab": {
          "base_uri": "https://localhost:8080/",
          "height": 36
        },
        "outputId": "e1031888-b564-428d-c23e-635dd60a4757"
      },
      "source": [
        "train_bpe(train_records, \"BPE_model.bin\")"
      ],
      "execution_count": 11,
      "outputs": [
        {
          "output_type": "stream",
          "text": [
            "100%|██████████| 100000/100000 [00:02<00:00, 43841.33it/s]\n"
          ],
          "name": "stderr"
        }
      ]
    },
    {
      "cell_type": "code",
      "metadata": {
        "id": "GzTvrp_CZkHc",
        "colab_type": "code",
        "colab": {
          "base_uri": "https://localhost:8080/",
          "height": 261
        },
        "outputId": "3a69f118-a420-4e88-c44a-5a9656a133d1"
      },
      "source": [
        "bpe_processor = yttm.BPE('BPE_model.bin')\n",
        "bpe_processor.encode([\"шустрая бурая лиса прыгает через ленивого пса\"], output_type=yttm.OutputType.SUBWORD)"
      ],
      "execution_count": 12,
      "outputs": [
        {
          "output_type": "execute_result",
          "data": {
            "text/plain": [
              "[['▁шу',\n",
              "  'страя',\n",
              "  '▁бу',\n",
              "  'рая',\n",
              "  '▁ли',\n",
              "  'са',\n",
              "  '▁пры',\n",
              "  'гает',\n",
              "  '▁через',\n",
              "  '▁лени',\n",
              "  'вого',\n",
              "  '▁п',\n",
              "  'са']]"
            ]
          },
          "metadata": {
            "tags": []
          },
          "execution_count": 12
        }
      ]
    },
    {
      "cell_type": "markdown",
      "metadata": {
        "id": "VCxhj08hZkHk",
        "colab_type": "text"
      },
      "source": [
        "Collect vocabulary token indexation."
      ]
    },
    {
      "cell_type": "code",
      "metadata": {
        "id": "js0-NGEgZkHm",
        "colab_type": "code",
        "colab": {}
      },
      "source": [
        "class Vocabulary:\n",
        "    def __init__(self, bpe_processor):\n",
        "        self.index2word = bpe_processor.vocab()\n",
        "        self.word2index = {w: i for i, w in enumerate(self.index2word)}\n",
        "        self.word2count = Counter()\n",
        "\n",
        "    def get_pad(self):\n",
        "        return self.word2index[\"<PAD>\"]\n",
        "\n",
        "    def get_sos(self):\n",
        "        return self.word2index[\"<SOS>\"]\n",
        "\n",
        "    def get_eos(self):\n",
        "        return self.word2index[\"<EOS>\"]\n",
        "\n",
        "    def get_unk(self):\n",
        "        return self.word2index[\"<UNK>\"]\n",
        "    \n",
        "    def has_word(self, word) -> bool:\n",
        "        return word in self.word2index\n",
        "\n",
        "    def get_index(self, word):\n",
        "        if word in self.word2index:\n",
        "            return self.word2index[word]\n",
        "        return self.get_unk()\n",
        "\n",
        "    def get_word(self, index):\n",
        "        return self.index2word[index]\n",
        "\n",
        "    def size(self):\n",
        "        return len(self.index2word)\n",
        "\n",
        "    def is_empty(self):\n",
        "        empty_size = 4\n",
        "        return self.size() <= empty_size\n",
        "\n",
        "    def reset(self):\n",
        "        self.word2count = Counter()\n",
        "        self.index2word = [\"<pad>\", \"<sos>\", \"<eos>\", \"<unk>\"]\n",
        "        self.word2index = {word: index for index, word in enumerate(self.index2word)}"
      ],
      "execution_count": 0,
      "outputs": []
    },
    {
      "cell_type": "code",
      "metadata": {
        "id": "bmCEdR-CZkHv",
        "colab_type": "code",
        "colab": {
          "base_uri": "https://localhost:8080/",
          "height": 36
        },
        "outputId": "64c1beb0-1c2b-4121-f7da-c2fd91a61dcd"
      },
      "source": [
        "vocabulary = Vocabulary(bpe_processor)\n",
        "vocabulary.size()"
      ],
      "execution_count": 14,
      "outputs": [
        {
          "output_type": "execute_result",
          "data": {
            "text/plain": [
              "30000"
            ]
          },
          "metadata": {
            "tags": []
          },
          "execution_count": 14
        }
      ]
    },
    {
      "cell_type": "markdown",
      "metadata": {
        "id": "M2fLULqrZkH9",
        "colab_type": "text"
      },
      "source": [
        "Oracle summary cache."
      ]
    },
    {
      "cell_type": "code",
      "metadata": {
        "id": "lVSw3MmPZkH_",
        "colab_type": "code",
        "colab": {}
      },
      "source": [
        "def add_oracle_summary_to_records(records, max_sentences=30, lower=True, nrows=1000):\n",
        "    rouge = Rouge()\n",
        "    sentences_ = []\n",
        "    oracle_sentences_ = []\n",
        "    oracle_summary_ = []\n",
        "    records = records.iloc[:nrows].copy()\n",
        "\n",
        "    for text, title in tqdm(records[['Text', 'Head_title']].values):\n",
        "        title = title.lower() if lower else title\n",
        "        sentences = [sentence.text.lower() if lower else sentence.text for sentence in razdel.sentenize(text)][:max_sentences]\n",
        "        oracle_summary, sentences_indicies = build_oracle_summary_greedy(text, title, calc_score=lambda x, y: calc_single_score(x, y, rouge),\n",
        "                                                                         lower=lower, max_sentences=max_sentences)\n",
        "        sentences_ += [sentences]\n",
        "        oracle_sentences_ += [list(sentences_indicies)]\n",
        "        oracle_summary_ += [oracle_summary]\n",
        "    records['sentences'] = sentences_\n",
        "    records['oracle_sentences'] = oracle_sentences_\n",
        "    records['oracle_summary'] = oracle_summary_\n",
        "    return records\n",
        "\n",
        "\n",
        "def build_oracle_summary_greedy(text, gold_summary, calc_score, lower=True, max_sentences=30):\n",
        "    gold_summary = gold_summary.lower() if lower else gold_summary\n",
        "    # Split to the sentences\n",
        "    sentences = [sentence.text.lower() if lower else sentence.text for sentence in razdel.sentenize(text)][:max_sentences]\n",
        "    n_sentences = len(sentences)\n",
        "    oracle_summary_sentences = set()\n",
        "    score = -1.0\n",
        "    summaries = []\n",
        "    for _ in range(min(n_sentences, 2)):\n",
        "        for i in range(n_sentences):\n",
        "            if i in oracle_summary_sentences:\n",
        "                continue\n",
        "            current_summary_sentences = copy.copy(oracle_summary_sentences)\n",
        "            # Add sentence to existed summary\n",
        "            current_summary_sentences.add(i)\n",
        "            current_summary = \" \".join([sentences[index] for index in sorted(list(current_summary_sentences))])\n",
        "            # Calc scores\n",
        "            current_score = calc_score(current_summary, gold_summary)\n",
        "            summaries.append((current_score, current_summary_sentences))\n",
        "        # If this step provide better metrics then go on\n",
        "        # Else break summarizing\n",
        "        best_summary_score, best_summary_sentences = max(summaries)\n",
        "        if best_summary_score <= score:\n",
        "            break\n",
        "        oracle_summary_sentences = best_summary_sentences\n",
        "        score = best_summary_score\n",
        "    oracle_summary = \" \".join([sentences[index] for index in sorted(list(oracle_summary_sentences))])\n",
        "    return oracle_summary, oracle_summary_sentences\n",
        "\n",
        "\n",
        "def calc_single_score(pred_summary, gold_summary, rouge):\n",
        "    return rouge.get_scores([pred_summary], [gold_summary], avg=True)['rouge-2']['f']"
      ],
      "execution_count": 0,
      "outputs": []
    },
    {
      "cell_type": "code",
      "metadata": {
        "id": "tu_OlbKBZkIl",
        "colab_type": "code",
        "colab": {
          "base_uri": "https://localhost:8080/",
          "height": 73
        },
        "outputId": "ea791175-2ecd-4309-e151-6e94cd2378aa"
      },
      "source": [
        "ext_train_records = add_oracle_summary_to_records(train_records, nrows=100000)\n",
        "ext_val_records = add_oracle_summary_to_records(val_records, nrows=16000)\n",
        "ext_test_records = add_oracle_summary_to_records(test_records, nrows=16000)"
      ],
      "execution_count": 16,
      "outputs": [
        {
          "output_type": "stream",
          "text": [
            "100%|██████████| 100000/100000 [15:33<00:00, 107.18it/s]\n",
            "100%|██████████| 16000/16000 [02:28<00:00, 107.56it/s]\n",
            "100%|██████████| 16000/16000 [02:30<00:00, 106.42it/s]\n"
          ],
          "name": "stderr"
        }
      ]
    },
    {
      "cell_type": "markdown",
      "metadata": {
        "id": "miPcFae1ZkI5",
        "colab_type": "text"
      },
      "source": [
        "Compile a batches."
      ]
    },
    {
      "cell_type": "code",
      "metadata": {
        "id": "rY6PLV7HZkI6",
        "colab_type": "code",
        "colab": {}
      },
      "source": [
        "class ExtDataset(data.Dataset):\n",
        "    def __init__(self, records, vocabulary, bpe_processor, lower=True, max_sentences=30, max_sentence_length=50, device=torch.device('cpu')):\n",
        "        self.records = records\n",
        "        self.num_samples = records.shape[0]\n",
        "        self.bpe_processor = bpe_processor\n",
        "        self.lower = lower\n",
        "        self.rouge = Rouge()\n",
        "        self.vocabulary = vocabulary\n",
        "        self.max_sentences = max_sentences\n",
        "        self.max_sentence_length = max_sentence_length\n",
        "        self.device = device\n",
        "        \n",
        "    def __len__(self):\n",
        "        return self.records.shape[0]\n",
        "\n",
        "    def __getitem__(self, idx):\n",
        "        cur_record = self.records.iloc[idx]\n",
        "        inputs = list(map(lambda x: x[:self.max_sentence_length], self.bpe_processor.encode(cur_record['sentences'], output_type=yttm.OutputType.ID)))\n",
        "        outputs = [int(i in cur_record['oracle_sentences']) for i in range(len(cur_record['sentences']))]\n",
        "        return {'inputs': inputs, 'outputs': outputs}"
      ],
      "execution_count": 0,
      "outputs": []
    },
    {
      "cell_type": "markdown",
      "metadata": {
        "id": "D2yxHcbbZkJB",
        "colab_type": "text"
      },
      "source": [
        "Create random dataset and test how it works."
      ]
    },
    {
      "cell_type": "code",
      "metadata": {
        "id": "7bHO5RKMZkJD",
        "colab_type": "code",
        "colab": {
          "base_uri": "https://localhost:8080/",
          "height": 56
        },
        "outputId": "de7cd34a-6101-448f-c85b-e1fef2a0972a"
      },
      "source": [
        "train_dataset = ExtDataset(ext_train_records, vocabulary, bpe_processor)\n",
        "print(train_dataset[0])"
      ],
      "execution_count": 18,
      "outputs": [
        {
          "output_type": "stream",
          "text": [
            "{'inputs': [[28410, 2266, 6849, 14307, 3424, 3132, 4965, 5368, 5577, 1726, 6610, 1547, 14007, 2957, 7897, 17644, 24515, 28425, 29], [10288, 1887, 13148, 1566, 14038, 2200, 3424, 2524, 1984, 4964, 6963, 1622, 12288, 5622, 2547], [1546, 2266, 3819, 5767, 4344, 16461, 27120, 2157, 32, 1765, 16, 1610, 1887, 29690, 1566, 2281, 6910, 1676, 3337, 1557, 9432, 8106, 1559, 3424, 3132, 1547, 5969, 19056, 2696, 16931, 15869, 1616, 5585, 7224, 5443, 1557, 4829, 5453, 10416, 26254, 1734, 1605, 1600, 5654, 1566, 6010, 5971, 7009], [2833, 2266, 4591, 3524, 8075, 2998, 1556, 10018, 13211, 15420, 17315, 1546, 6385, 2008, 2590, 11694, 2268, 11198, 20637, 1566, 7533, 2084, 12288, 6681, 6377], [1559, 4792, 5309, 6880, 1673, 1782, 18, 4005, 3493, 2096, 8641, 24809, 6690, 2392, 4891, 1546, 2266, 18003, 5977, 6187, 44, 2157, 5767, 7224, 14007, 1622, 11369, 9300, 15057, 2008, 4363, 2157, 3554]], 'outputs': [1, 0, 0, 0, 0]}\n"
          ],
          "name": "stdout"
        }
      ]
    },
    {
      "cell_type": "code",
      "metadata": {
        "id": "SL6fWbGxZkJK",
        "colab_type": "code",
        "colab": {}
      },
      "source": [
        "def collate_fn(records):\n",
        "    max_length = max(len(sentence) for record in records for sentence in record['inputs'])\n",
        "    max_sentences = max(len(record['outputs']) for record in records)\n",
        "\n",
        "    new_inputs = torch.zeros((len(records), max_sentences, max_length))\n",
        "    new_outputs = torch.zeros((len(records), max_sentences))\n",
        "    for i, record in enumerate(records):\n",
        "        for j, sentence in enumerate(record['inputs']):\n",
        "            new_inputs[i, j, :len(sentence)] += np.array(sentence)\n",
        "        new_outputs[i, :len(record['outputs'])] += np.array(record['outputs'])\n",
        "    return {'features': new_inputs.type(torch.LongTensor), 'targets': new_outputs}"
      ],
      "execution_count": 0,
      "outputs": []
    },
    {
      "cell_type": "markdown",
      "metadata": {
        "id": "kQlZBTgTZkJR",
        "colab_type": "text"
      },
      "source": [
        "Model RNN"
      ]
    },
    {
      "cell_type": "code",
      "metadata": {
        "id": "4ZMKfPMWZkJT",
        "colab_type": "code",
        "colab": {}
      },
      "source": [
        "import torch.nn as nn\n",
        "import torch.nn.functional as F\n",
        "import torch.optim as optim\n",
        "\n",
        "from torch.nn.utils.rnn import pack_padded_sequence as pack\n",
        "from torch.nn.utils.rnn import pad_packed_sequence as unpack"
      ],
      "execution_count": 0,
      "outputs": []
    },
    {
      "cell_type": "code",
      "metadata": {
        "id": "iYhCAwqRZkJa",
        "colab_type": "code",
        "colab": {}
      },
      "source": [
        "class SentenceEncoderRNN(nn.Module):\n",
        "    def __init__(self, input_size, embedding_dim, hidden_size, n_layers=3, dropout=0.3, bidirectional=True):\n",
        "        super(SentenceEncoderRNN, self).__init__()\n",
        "\n",
        "        num_directions = 2 if bidirectional else 1\n",
        "        assert hidden_size % num_directions == 0\n",
        "        hidden_size = hidden_size // num_directions\n",
        "\n",
        "        self.embedding_dim = embedding_dim\n",
        "        self.input_size = input_size\n",
        "        self.hidden_size = hidden_size\n",
        "        self.n_layers = n_layers\n",
        "        self.dropout = dropout\n",
        "        self.bidirectional = bidirectional\n",
        "\n",
        "        self.embedding_layer = nn.Embedding(input_size, embedding_dim)\n",
        "        self.rnn_layer = nn.LSTM(embedding_dim, hidden_size, n_layers, dropout=dropout, bidirectional=bidirectional, batch_first=True)\n",
        "        self.dropout_layer = nn.Dropout(dropout)\n",
        "\n",
        "    def forward(self, inputs, hidden=None):\n",
        "        embedded = self.embedding_layer(inputs)\n",
        "        outputs, _ = self.rnn_layer(embedded, hidden)\n",
        "        sentences_embeddings = torch.mean(outputs, 1)\n",
        "        return sentences_embeddings"
      ],
      "execution_count": 0,
      "outputs": []
    },
    {
      "cell_type": "code",
      "metadata": {
        "id": "n-YPrMQbZkJg",
        "colab_type": "code",
        "colab": {}
      },
      "source": [
        "class SentenceTaggerRNN(nn.Module):\n",
        "    def __init__(self,\n",
        "                 vocabulary_size,\n",
        "                 token_embedding_dim=256,\n",
        "                 sentence_encoder_hidden_size=256,\n",
        "                 hidden_size=256,\n",
        "                 bidirectional=True,\n",
        "                 sentence_encoder_n_layers=2,\n",
        "                 sentence_encoder_dropout=0.3,\n",
        "                 sentence_encoder_bidirectional=True,\n",
        "                 n_layers=1,\n",
        "                 dropout=0.3):\n",
        "        super(SentenceTaggerRNN, self).__init__()\n",
        "\n",
        "        num_directions = 2 if bidirectional else 1\n",
        "        assert hidden_size % num_directions == 0\n",
        "        hidden_size = hidden_size // num_directions\n",
        "\n",
        "        self.hidden_size = hidden_size\n",
        "        self.n_layers = n_layers\n",
        "        self.dropout = dropout\n",
        "        self.bidirectional = bidirectional\n",
        "\n",
        "        self.sentence_encoder = SentenceEncoderRNN(vocabulary_size, token_embedding_dim,\n",
        "                                                   sentence_encoder_hidden_size, sentence_encoder_n_layers, \n",
        "                                                   sentence_encoder_dropout, sentence_encoder_bidirectional)\n",
        "        self.rnn_layer = nn.LSTM(sentence_encoder_hidden_size, hidden_size, n_layers, dropout=dropout,\n",
        "                                 bidirectional=bidirectional, batch_first=True)\n",
        "        self.dropout_layer = nn.Dropout(dropout)\n",
        "        self.content_linear_layer = nn.Linear(hidden_size * 2, 1)\n",
        "        self.document_linear_layer = nn.Linear(hidden_size * 2, hidden_size * 2)\n",
        "        self.salience_linear_layer = nn.Linear(hidden_size * 2, hidden_size * 2)\n",
        "        self.tanh_layer = nn.Tanh()\n",
        "\n",
        "    def forward(self, inputs, hidden=None):\n",
        "        batch_size = inputs.size(0)\n",
        "        sentences_count = inputs.size(1)\n",
        "        tokens_count = inputs.size(2)\n",
        "        inputs = inputs.reshape(-1, tokens_count)\n",
        "        embedded_sentences = self.sentence_encoder(inputs)\n",
        "        embedded_sentences = embedded_sentences.reshape(batch_size, sentences_count, -1)\n",
        "        outputs, _ = self.rnn_layer(embedded_sentences, hidden)\n",
        "        outputs = self.dropout_layer(outputs)\n",
        "        document_embedding = self.tanh_layer(self.document_linear_layer(torch.mean(outputs, 1)))\n",
        "        content = self.content_linear_layer(outputs).squeeze(2)\n",
        "        salience = torch.bmm(outputs, self.salience_linear_layer(document_embedding).unsqueeze(2)).squeeze(2)\n",
        "        return content + salience"
      ],
      "execution_count": 0,
      "outputs": []
    },
    {
      "cell_type": "markdown",
      "metadata": {
        "id": "PFmkZJfCZkJn",
        "colab_type": "text"
      },
      "source": [
        "Trainer"
      ]
    },
    {
      "cell_type": "code",
      "metadata": {
        "id": "z9seL1tQZkJp",
        "colab_type": "code",
        "colab": {}
      },
      "source": [
        "def fit_epoch(model, train_loader, criterion, optimizer):\n",
        "    model.train()  # train mode\n",
        "    avg_loss = 0\n",
        "    for item in tqdm(train_loader):\n",
        "        # data to device\n",
        "        inputs = item['features'].to(DEVICE)\n",
        "        targets = item['targets'].to(DEVICE)\n",
        "        # reset gradients\n",
        "        optimizer.zero_grad()\n",
        "        # forward\n",
        "        outputs = model(inputs)\n",
        "        # calc batch loss\n",
        "        loss = criterion(outputs, targets)\n",
        "        loss.backward()\n",
        "        optimizer.step()\n",
        "        # add batch average loss\n",
        "        avg_loss += loss.item() / len(train_loader)\n",
        "    return avg_loss\n",
        "\n",
        "\n",
        "\n",
        "def eval_epoch(model, val_loader, criterion):\n",
        "    model.eval()  # testing mode\n",
        "    avg_loss = 0\n",
        "    for item in val_loader:\n",
        "        inputs = item['features'].to(DEVICE)\n",
        "        targets = item['targets'].to(DEVICE)\n",
        "\n",
        "        with torch.set_grad_enabled(False):\n",
        "            outputs = model(inputs)\n",
        "            # calc batch loss\n",
        "            loss = criterion(outputs, targets)\n",
        "            # add batch average loss\n",
        "            avg_loss += loss.item() / len(val_loader)\n",
        "    return avg_loss\n",
        "\n",
        "\n",
        "\n",
        "def train(model, opt, criterion, epochs, train_loader, val_loader, verbose=True):\n",
        "    history = []\n",
        "    for epoch in range(epochs):\n",
        "        if verbose:\n",
        "            print('* Epoch %d/%d' % (epoch+1, epochs))\n",
        "        # Train model, collect loss-metrics for current epoch\n",
        "        avg_train_loss = fit_epoch(model, train_loader, criterion, opt)\n",
        "        # Collect loss-metrics for val data for current epoch\n",
        "        avg_val_loss = eval_epoch(model, val_loader, criterion)\n",
        "        # Save all metrics\n",
        "        history.append((avg_train_loss, avg_val_loss))\n",
        "                \n",
        "        if verbose:\n",
        "            print('Train loss: %f' % avg_train_loss)\n",
        "    return history"
      ],
      "execution_count": 0,
      "outputs": []
    },
    {
      "cell_type": "markdown",
      "metadata": {
        "id": "oDb4S8aGZkJx",
        "colab_type": "text"
      },
      "source": [
        "Utils"
      ]
    },
    {
      "cell_type": "code",
      "metadata": {
        "id": "obWKMKPfZkJy",
        "colab_type": "code",
        "colab": {}
      },
      "source": [
        "def draw_plot(history):\n",
        "    train_losses, val_losses = zip(*history)\n",
        "    epochs = len(history)\n",
        "    \n",
        "    fig, ax = plt.subplots(figsize=(9, 5))\n",
        "    ax.plot(range(1, epochs+1), train_losses, label=\"Train loss\")\n",
        "    ax.plot(range(1, epochs+1), val_losses, label=\"Validation loss\")\n",
        "    ax.grid()\n",
        "    ax.set_xlabel('Epoch')\n",
        "    ax.set_ylabel('Loss')\n",
        "\n",
        "    plt.xticks(np.arange(1, epochs+1, 1))\n",
        "    plt.legend()\n",
        "    plt.show()\n",
        "\n",
        "\n",
        "def score_rnn_model(model, test_loader):\n",
        "    references = []\n",
        "    predictions = []\n",
        "    model.eval()\n",
        "    for i, item in tqdm(enumerate(test_loader), total=len(test_loader)):\n",
        "        logits = model(item[\"features\"].to(DEVICE))[0] # forward\n",
        "        record = ext_test_records.iloc[i]\n",
        "        predicted_summary = []\n",
        "        for i, logit in enumerate(logits):\n",
        "            if logit > 0.0:\n",
        "                predicted_summary.append(record['sentences'][i])\n",
        "    \n",
        "        if not predicted_summary:\n",
        "            predicted_summary.append(record['sentences'][torch.max(logits, dim=0)[1].item()])\n",
        "    \n",
        "        predicted_summary = \" \".join(predicted_summary)\n",
        "        references.append(record['Head_title'].lower())\n",
        "        predictions.append(predicted_summary)\n",
        "    calc_scores(references, predictions)"
      ],
      "execution_count": 0,
      "outputs": []
    },
    {
      "cell_type": "markdown",
      "metadata": {
        "id": "WL1u-iXHZkJ5",
        "colab_type": "text"
      },
      "source": [
        "Model fit process"
      ]
    },
    {
      "cell_type": "code",
      "metadata": {
        "id": "fQ_K6JWKZkJ6",
        "colab_type": "code",
        "colab": {}
      },
      "source": [
        "train_loader = data.DataLoader(ExtDataset(ext_train_records, vocabulary, bpe_processor=bpe_processor), batch_size=200, collate_fn=collate_fn)\n",
        "val_loader = data.DataLoader(ExtDataset(ext_val_records, vocabulary, bpe_processor=bpe_processor), batch_size=200, collate_fn=collate_fn)"
      ],
      "execution_count": 0,
      "outputs": []
    },
    {
      "cell_type": "code",
      "metadata": {
        "id": "uUTAL3W7ZkKA",
        "colab_type": "code",
        "colab": {
          "base_uri": "https://localhost:8080/",
          "height": 636
        },
        "outputId": "7d9807ab-2992-45f6-d360-9bbeebf53a4b"
      },
      "source": [
        "torch.manual_seed(13)\n",
        "torch.cuda.manual_seed(13)\n",
        "torch.backends.cudnn.deterministic = True\n",
        "model = SentenceTaggerRNN(vocabulary.size()).to(DEVICE)\n",
        "\n",
        "history = train(model = model,\n",
        "                opt = torch.optim.Adam(model.parameters(), lr=1e-3),\n",
        "                criterion = nn.BCEWithLogitsLoss(),\n",
        "                epochs = 10,\n",
        "                train_loader = train_loader,\n",
        "                val_loader = val_loader,\n",
        "                verbose = True)"
      ],
      "execution_count": 26,
      "outputs": [
        {
          "output_type": "stream",
          "text": [
            "/usr/local/lib/python3.6/dist-packages/torch/nn/modules/rnn.py:50: UserWarning: dropout option adds dropout after all but last recurrent layer, so non-zero dropout expects num_layers greater than 1, but got dropout=0.3 and num_layers=1\n",
            "  \"num_layers={}\".format(dropout, num_layers))\n",
            "  0%|          | 0/500 [00:00<?, ?it/s]"
          ],
          "name": "stderr"
        },
        {
          "output_type": "stream",
          "text": [
            "* Epoch 1/10\n"
          ],
          "name": "stdout"
        },
        {
          "output_type": "stream",
          "text": [
            "100%|██████████| 500/500 [11:15<00:00,  1.35s/it]\n",
            "  0%|          | 0/500 [00:00<?, ?it/s]"
          ],
          "name": "stderr"
        },
        {
          "output_type": "stream",
          "text": [
            "Train loss: 0.074631\n",
            "* Epoch 2/10\n"
          ],
          "name": "stdout"
        },
        {
          "output_type": "stream",
          "text": [
            "100%|██████████| 500/500 [11:18<00:00,  1.36s/it]\n",
            "  0%|          | 0/500 [00:00<?, ?it/s]"
          ],
          "name": "stderr"
        },
        {
          "output_type": "stream",
          "text": [
            "Train loss: 0.065816\n",
            "* Epoch 3/10\n"
          ],
          "name": "stdout"
        },
        {
          "output_type": "stream",
          "text": [
            "100%|██████████| 500/500 [11:16<00:00,  1.35s/it]\n",
            "  0%|          | 0/500 [00:00<?, ?it/s]"
          ],
          "name": "stderr"
        },
        {
          "output_type": "stream",
          "text": [
            "Train loss: 0.062223\n",
            "* Epoch 4/10\n"
          ],
          "name": "stdout"
        },
        {
          "output_type": "stream",
          "text": [
            "100%|██████████| 500/500 [11:18<00:00,  1.36s/it]\n",
            "  0%|          | 0/500 [00:00<?, ?it/s]"
          ],
          "name": "stderr"
        },
        {
          "output_type": "stream",
          "text": [
            "Train loss: 0.057182\n",
            "* Epoch 5/10\n"
          ],
          "name": "stdout"
        },
        {
          "output_type": "stream",
          "text": [
            "100%|██████████| 500/500 [11:19<00:00,  1.36s/it]\n",
            "  0%|          | 0/500 [00:00<?, ?it/s]"
          ],
          "name": "stderr"
        },
        {
          "output_type": "stream",
          "text": [
            "Train loss: 0.049362\n",
            "* Epoch 6/10\n"
          ],
          "name": "stdout"
        },
        {
          "output_type": "stream",
          "text": [
            "100%|██████████| 500/500 [11:21<00:00,  1.36s/it]\n",
            "  0%|          | 0/500 [00:00<?, ?it/s]"
          ],
          "name": "stderr"
        },
        {
          "output_type": "stream",
          "text": [
            "Train loss: 0.039885\n",
            "* Epoch 7/10\n"
          ],
          "name": "stdout"
        },
        {
          "output_type": "stream",
          "text": [
            "100%|██████████| 500/500 [11:12<00:00,  1.35s/it]\n",
            "  0%|          | 0/500 [00:00<?, ?it/s]"
          ],
          "name": "stderr"
        },
        {
          "output_type": "stream",
          "text": [
            "Train loss: 0.031291\n",
            "* Epoch 8/10\n"
          ],
          "name": "stdout"
        },
        {
          "output_type": "stream",
          "text": [
            "100%|██████████| 500/500 [11:30<00:00,  1.38s/it]\n",
            "  0%|          | 0/500 [00:00<?, ?it/s]"
          ],
          "name": "stderr"
        },
        {
          "output_type": "stream",
          "text": [
            "Train loss: 0.023425\n",
            "* Epoch 9/10\n"
          ],
          "name": "stdout"
        },
        {
          "output_type": "stream",
          "text": [
            "100%|██████████| 500/500 [11:28<00:00,  1.38s/it]\n",
            "  0%|          | 0/500 [00:00<?, ?it/s]"
          ],
          "name": "stderr"
        },
        {
          "output_type": "stream",
          "text": [
            "Train loss: 0.017372\n",
            "* Epoch 10/10\n"
          ],
          "name": "stdout"
        },
        {
          "output_type": "stream",
          "text": [
            "100%|██████████| 500/500 [11:36<00:00,  1.39s/it]\n"
          ],
          "name": "stderr"
        },
        {
          "output_type": "stream",
          "text": [
            "Train loss: 0.013498\n"
          ],
          "name": "stdout"
        }
      ]
    },
    {
      "cell_type": "code",
      "metadata": {
        "id": "qpGOesvGZkKI",
        "colab_type": "code",
        "colab": {
          "base_uri": "https://localhost:8080/",
          "height": 334
        },
        "outputId": "c76ee197-ccfe-49e4-cb38-1a11181e153b"
      },
      "source": [
        "draw_plot(history)"
      ],
      "execution_count": 27,
      "outputs": [
        {
          "output_type": "display_data",
          "data": {
            "image/png": "[encoded data removed]",
            "text/plain": [
              "<Figure size 648x360 with 1 Axes>"
            ]
          },
          "metadata": {
            "tags": [],
            "needs_background": "light"
          }
        }
      ]
    },
    {
      "cell_type": "markdown",
      "metadata": {
        "id": "p844qoo-ZkKO",
        "colab_type": "text"
      },
      "source": [
        "Score model"
      ]
    },
    {
      "cell_type": "code",
      "metadata": {
        "id": "3inq0HhaZkKP",
        "colab_type": "code",
        "colab": {}
      },
      "source": [
        "test_loader = data.DataLoader(ExtDataset(ext_test_records, vocabulary, bpe_processor=bpe_processor), batch_size=1, collate_fn=collate_fn)"
      ],
      "execution_count": 0,
      "outputs": []
    },
    {
      "cell_type": "code",
      "metadata": {
        "id": "Z0nbj2A-ZkKU",
        "colab_type": "code",
        "colab": {
          "base_uri": "https://localhost:8080/",
          "height": 223
        },
        "outputId": "52d8a3fd-f81b-4f8c-cff5-145d99efe8d5"
      },
      "source": [
        "score_rnn_model(model, test_loader)"
      ],
      "execution_count": 29,
      "outputs": [
        {
          "output_type": "stream",
          "text": [
            "100%|██████████| 16000/16000 [02:33<00:00, 104.12it/s]\n"
          ],
          "name": "stderr"
        },
        {
          "output_type": "stream",
          "text": [
            "Count: 16000\n",
            "Last true headline: в подмосковье грузовик врезался в легковушку: есть погибший\n",
            "Last predicted headline: на дмитровском шоссе в подмосковье грузовой автомобиль выехал на встречную полосу, где врезался в легковой автомобиль.\n",
            "\n",
            "BLEU:  0.17189417700095339\n",
            "ROUGE:  \n",
            "rouge-1:{'f': 0.13847848787757333, 'p': 0.11173363823403029, 'r': 0.21177665745712695}\n",
            "rouge-2:{'f': 0.05215587367276837, 'p': 0.04231620110928426, 'r': 0.07807937808719001}\n",
            "rouge-l:{'f': 0.12915742779499537, 'p': 0.10456762889533217, 'r': 0.19526992608086383} \n",
            "\n"
          ],
          "name": "stdout"
        }
      ]
    }
  ],
  "metadata": {
    "orig_nbformat": 2,
    "colab": {
      "name": "03_Extractive_RNN_model.ipynb",
      "provenance": [],
      "collapsed_sections": []
    },
    "kernelspec": {
      "name": "python3",
      "display_name": "Python 3"
    },
    "accelerator": "GPU"
  },
  "nbformat": 4,
  "nbformat_minor": 0
}